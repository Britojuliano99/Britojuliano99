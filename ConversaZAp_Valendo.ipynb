{
  "nbformat": 4,
  "nbformat_minor": 0,
  "metadata": {
    "colab": {
      "name": "ConversaZAp_Valendo.ipynb",
      "provenance": [],
      "collapsed_sections": [],
      "mount_file_id": "14n_F4UM8GhoW9vqtrWpRjPTd5_MaqbKl",
      "authorship_tag": "ABX9TyO21lllJ/Hw1swzRINazTOb"
    },
    "kernelspec": {
      "name": "python3",
      "display_name": "Python 3"
    },
    "language_info": {
      "name": "python"
    }
  },
  "cells": [
    {
      "cell_type": "code",
      "source": [
        "!pip install emoji"
      ],
      "metadata": {
        "colab": {
          "base_uri": "https://localhost:8080/"
        },
        "id": "g1frsjVF00vJ",
        "outputId": "cdf49ef2-fb01-4d9d-c54f-d213d49abff9"
      },
      "execution_count": null,
      "outputs": [
        {
          "output_type": "stream",
          "name": "stdout",
          "text": [
            "Collecting emoji\n",
            "  Downloading emoji-1.6.3.tar.gz (174 kB)\n",
            "\u001b[?25l\r\u001b[K     |█▉                              | 10 kB 25.3 MB/s eta 0:00:01\r\u001b[K     |███▊                            | 20 kB 32.1 MB/s eta 0:00:01\r\u001b[K     |█████▋                          | 30 kB 25.6 MB/s eta 0:00:01\r\u001b[K     |███████▌                        | 40 kB 19.4 MB/s eta 0:00:01\r\u001b[K     |█████████▍                      | 51 kB 9.5 MB/s eta 0:00:01\r\u001b[K     |███████████▎                    | 61 kB 9.4 MB/s eta 0:00:01\r\u001b[K     |█████████████▏                  | 71 kB 9.4 MB/s eta 0:00:01\r\u001b[K     |███████████████                 | 81 kB 10.4 MB/s eta 0:00:01\r\u001b[K     |█████████████████               | 92 kB 10.9 MB/s eta 0:00:01\r\u001b[K     |██████████████████▉             | 102 kB 8.8 MB/s eta 0:00:01\r\u001b[K     |████████████████████▊           | 112 kB 8.8 MB/s eta 0:00:01\r\u001b[K     |██████████████████████▋         | 122 kB 8.8 MB/s eta 0:00:01\r\u001b[K     |████████████████████████▌       | 133 kB 8.8 MB/s eta 0:00:01\r\u001b[K     |██████████████████████████▍     | 143 kB 8.8 MB/s eta 0:00:01\r\u001b[K     |████████████████████████████▏   | 153 kB 8.8 MB/s eta 0:00:01\r\u001b[K     |██████████████████████████████  | 163 kB 8.8 MB/s eta 0:00:01\r\u001b[K     |████████████████████████████████| 174 kB 8.8 MB/s eta 0:00:01\r\u001b[K     |████████████████████████████████| 174 kB 8.8 MB/s \n",
            "\u001b[?25hBuilding wheels for collected packages: emoji\n",
            "  Building wheel for emoji (setup.py) ... \u001b[?25l\u001b[?25hdone\n",
            "  Created wheel for emoji: filename=emoji-1.6.3-py3-none-any.whl size=170298 sha256=5d16cfe351d69204f04727832a6239b597e013c2be0bbe9af8fa296c1506f688\n",
            "  Stored in directory: /root/.cache/pip/wheels/03/8b/d7/ad579fbef83c287215c0caab60fb0ae0f30c4d7ce5f580eade\n",
            "Successfully built emoji\n",
            "Installing collected packages: emoji\n",
            "Successfully installed emoji-1.6.3\n"
          ]
        }
      ]
    },
    {
      "cell_type": "code",
      "source": [
        "import re\n",
        "import regex\n",
        "import pandas as pd\n",
        "import numpy as np\n",
        "import emoji\n",
        "import plotly.express as px\n",
        "from collections import Counter\n",
        "import matplotlib.pyplot as plt\n",
        "from os import path\n",
        "from PIL import Image\n",
        "from wordcloud import WordCloud, STOPWORDS, ImageColorGenerator\n",
        "% matplotlib inline"
      ],
      "metadata": {
        "id": "HFs8cAMA1NHg"
      },
      "execution_count": null,
      "outputs": []
    },
    {
      "cell_type": "code",
      "execution_count": null,
      "metadata": {
        "id": "xZWDYc7w0zbr"
      },
      "outputs": [],
      "source": [
        "\n",
        "def dadosSeparados(linha):\n",
        "    #01/11/2020 15:25 - Exemplo: Oi, eu sou o Exemplo\n",
        "\n",
        "    data_search = re.search(\"(\\d{2})(\\/)(\\d{2})(\\/)(\\d{4})\", linha)\n",
        "    data = data_search.group()\n",
        "\n",
        "    hora_search = re.search(\"(\\d{2}):(\\d{2})\", linha)\n",
        "    hora = hora_search.group()\n",
        "\n",
        "    #para o autor estamos pegando a string que está entre \"- \" e \": \"\n",
        "    autor_search = re.search(\"(?<=\\-\\s)(.*?)(?=\\:\\s)\", linha)\n",
        "    autor= autor_seach.group()\n",
        "    \n",
        "    mensagem_search = re.search(\"(?<=\\:\\s).*\", linha)\n",
        "    if mensagem_search is None:\n",
        "        mensagem = \"\"\n",
        "    else:\n",
        "        mensagem = mensagem_search.group()\n",
        "\n",
        "    return data, hora, autor, mensagem"
      ]
    },
    {
      "cell_type": "code",
      "source": [
        "\n",
        "def dadosSeparados(linha):\n",
        "    #01/11/2020 15:25 - Exemplo: Oi, eu sou o Exemplo\n",
        "\n",
        "    data_search = re.search(\"(\\d{2})(\\/)(\\d{2})(\\/)(\\d{4})\", linha)\n",
        "    data = data_search.group()\n",
        "\n",
        "    hora_search = re.search(\"(\\d{2}):(\\d{2})\", linha)\n",
        "    hora = hora_search.group()\n",
        "\n",
        "    #para o autor estamos pegando a string que está entre \"- \" e \": \"\n",
        "    autor_search = re.search(\"(?<=\\-\\s)(.*?)(?=\\:\\s)\", linha)\n",
        "    if autor_search is None:\n",
        "        autor = None\n",
        "    else:\n",
        "        autor = autor_search.group()\n",
        "    \n",
        "    mensagem_search = re.search(\"(?<=\\:\\s).*\", linha)\n",
        "    if mensagem_search is None:\n",
        "        mensagem = \"\"\n",
        "    else:\n",
        "        mensagem = mensagem_search.group()\n",
        "\n",
        "    return data, hora, autor, mensagem"
      ],
      "metadata": {
        "id": "A8h94D9L1Abz"
      },
      "execution_count": null,
      "outputs": []
    },
    {
      "cell_type": "code",
      "source": [
        "\n",
        "def iniciaDataHora(s):\n",
        "    padrao = '^(\\d{2})(\\/)(\\d{2})(\\/)(\\d{4}) (\\d{2}):(\\d{2})[ ]? -' \n",
        "    resultado = re.match(padrao, s)\n",
        "    if resultado:\n",
        "        return True\n",
        "    return False"
      ],
      "metadata": {
        "id": "Tsw__zHA1Ggg"
      },
      "execution_count": null,
      "outputs": []
    },
    {
      "cell_type": "code",
      "source": [
        "dadoAnalisado = []\n",
        "textofernanda=[]\n",
        "textojuliano=[]\n",
        "conversationPath = \"/content/drive/MyDrive/Conversa do WhatsApp com Fernanda.txt\"\n",
        "with open(conversationPath, encoding=\"utf-8\") as fp:\n",
        "    fp.readline()\n",
        "    mensagemBuffer = [] \n",
        "    data, hora, autor, mensagem = None, None, None, \"\"\n",
        "    while True:\n",
        "        linha = fp.readline() \n",
        "        if not linha: \n",
        "            break\n",
        "        linha = linha.strip() \n",
        "        if iniciaDataHora(linha):\n",
        "            if len(mensagem) > 0: \n",
        "                dadoAnalisado.append([data, hora, autor, mensagem])\n",
        "                if autor==\"Fernanda\":\n",
        "                  textofernanda.append(mensagem )\n",
        "                if autor==\"Juliano\":\n",
        "                  textojuliano.append(mensagem )\n",
        "\n",
        "\n",
        "            data, hora, autor, mensagem = dadosSeparados(linha)"
      ],
      "metadata": {
        "id": "5uluzzhn1jUh"
      },
      "execution_count": null,
      "outputs": []
    },
    {
      "cell_type": "code",
      "source": [
        "textof=\" \".join([str(n) for n in textofernanda])\n",
        "textof\n",
        "textoj=\" \".join([str(n) for n in textojuliano])\n",
        "textoj"
      ],
      "metadata": {
        "colab": {
          "base_uri": "https://localhost:8080/",
          "height": 91
        },
        "id": "daiPMk7O-Cju",
        "outputId": "df567be2-53e7-4d09-bc72-f3f7a0c7d0bb"
      },
      "execution_count": null,
      "outputs": [
        {
          "output_type": "execute_result",
          "data": {
            "application/vnd.google.colaboratory.intrinsic+json": {
              "type": "string"
            },
            "text/plain": [
              "'Oxe Faz é tempo Não no carro mesmo bom dia baby kkk que mais tarde 8 h ei o curso é bom viu de web uhum eu tb mainha tomou 500 ml hj disse que era pra acordar ficar ativa 👏👏👏👏👏👏 Quanto oi amor oi tava fazendo o almoço acho interessante fazer algo que a pessoa chega faz com tesão oque? <Arquivo de mídia oculto> gustavo que fez ficou top eu sabia da pra usar os dois zaps no computador um no navegador e outro no app Iae Boa noite Oi, amor é um curso ah mas esse da o certificado ou é o curso gratis e o certificado caro a vera é o curso é gratis o caro é o certificado é barato pro cara caras que pagam 10k de dol por ano em faculdade pequena/media vermelho ou azul amo tu tb oi <Arquivo de mídia oculto> https://youtu.be/M2AzJkEY8Pg Bom dia baby Baby Tá com raiva ? Kkkkkk Eita Oi amor Vim pegar mainha <Arquivo de mídia oculto> Kkkk Eu vim Tava cara de doid9 <Arquivo de mídia oculto> Te amp Só tu mesmo viu Obrigado <Arquivo de mídia oculto> Tô indo <Arquivo de mídia oculto> <Arquivo de mídia oculto> Viuuuuu Já arrumei <Arquivo de mídia oculto> <Arquivo de mídia oculto> <Arquivo de mídia oculto> <Arquivo de mídia oculto> Ta melhor Mensagem apagada Bom dia Tô melhor amor <Arquivo de mídia oculto> Vou de tarde Noite Quem <Arquivo de mídia oculto> Em casa Kkk É intra muscular né Ou é na pele mesmo Aquelas fininhas <Arquivo de mídia oculto> <Arquivo de mídia oculto> Oi baby <Arquivo de mídia oculto> Me acordei agr Vou Tá bom Vou tomar banho Tô saindo <Arquivo de mídia oculto> Bom dia Eu tenho que terminar o trabalho é baby ta bom quando vc for vc diz 😘😘😘 Te amo viu OI BABY eu vi que tu ligou agr ei te amo quando acabar tua aula tu liga ? denovo 95 reais <Arquivo de mídia oculto> <Arquivo de mídia oculto> é até 6h Eu sai eita Ainda não É 17j 17h <Arquivo de mídia oculto> <Arquivo de mídia oculto> Eita peguei viu beijo te amo rlx vai ter a reunião aqui do trabalhoa gr agr de fluidos oi amor acabou aqui chega deu um alivio kkk <Arquivo de mídia oculto> Bom dia baby kkk safadinha vixi maria como foi esse treino <Arquivo de mídia oculto> eu vou so to esperando aqui acabar mas eu passo ai e vou no shopping pq n tem como mainha pegar o microndas sozinha eu te pego pega o microondas ai agente sai viu se apresse não é o tempo eita acabou a palestra to pedindo elevador Ainda n Cheguei sim, amor Bom dia amor Kkkkk Tô na clinica Já foi a mudanca aqui das coisas lá de casa É uma móvel da clinica \\u200eGabriel Andrade.vcf (arquivo anexado) Tá bom Bom dia Eu apaguei <Arquivo de mídia oculto> Já tô aqui Embaixo Bom dia amor <Arquivo de mídia oculto> Ta Primeira Melhor do que esperava <Arquivo de mídia oculto> Oi Acabei agora Kkkkkkkk <Arquivo de mídia oculto> Te amo Viu Tava tentando dormir mas n consegui Direito <Arquivo de mídia oculto> Bom dia amor Foi baby Eu tô de mal se vc Estuda bem muito pra ficar RICA <Arquivo de mídia oculto> Gostei <Arquivo de mídia oculto> <Arquivo de mídia oculto> <Arquivo de mídia oculto> <Arquivo de mídia oculto> Cheguei Ei apaguei Bom dia baby Vixi  amor vai da certo ja to fazendo aqui Acabei a prova Oi amor Tô terminando só um negócio da prova Pra enviar <Arquivo de mídia oculto> <Arquivo de mídia oculto> <Arquivo de mídia oculto> Venha https://maps.app.goo.gl/7hZVs64UCJrHW7sB6 <Arquivo de mídia oculto> <Arquivo de mídia oculto> Dormi  la? e tu n pode né bixinha hj Bom dia baby Tomei Não tomei lá em candelaria É que eu tava dirigindo <Arquivo de mídia oculto> <Arquivo de mídia oculto> <Arquivo de mídia oculto> Mainha que tem Tá danso Dando Eita Tá perto vim almoçar Fui nao Fui lá no sal da terra Sim Eu vou só no Delmiro tirar os dispenser ai instalo é acaba Tá bom 😘😘 <Arquivo de mídia oculto> Baby te amo Viu <Arquivo de mídia oculto> Homi nem fui direito Tava dormindo aqui chegou ? https://www.streameast.live/nfl/kansas-city-chiefs-baltimore-ravens/ Já tá só 2 min pro fim do 2 quarto Menos de 1 e 20 Te amo <Arquivo de mídia oculto> <Arquivo de mídia oculto> <Arquivo de mídia oculto> <Arquivo de mídia oculto> Tá bom Mas demora só meia hora E de noite Ah kkkk Oi amor Tu tá na aula não Kkkk Ah Tô aqui em vovo Oi baby Eu apaguei Legal Tô aqui Não Tô aqui <Arquivo de mídia oculto> Ta Eu vejo se dou uma passadinha ai Viu Vixi ampr Amor Eu tenho que tá na clinica 2 h Ai eu faço um negócio que eu achei que tinha ido é não salvou é passo ai Eu vim em casa almoçar Eu vi parabéns Eu acho que vou lá no val com Maranhão Ou no zumbi <Arquivo de mídia oculto> <Arquivo de mídia oculto> <Arquivo de mídia oculto> Ah <Arquivo de mídia oculto> Tô não Foram só 3 Já sairam Venha pra cá Ta terminado Ta na ultima Daqui a pouco eu vou 😘 <Arquivo de mídia oculto> Boa noite baby Da sim Quando vc chegar Tu diz Oi, amor Tô os esperando o 99 Que tá demorando Fui tomar banho tb Ai demorou O cara inventou de da a volta pra entrar na rua tá parado aqui Vc quem sã e Sabe Oi eu spaguei6 Bom dia <Arquivo de mídia oculto> <Arquivo de mídia oculto> <Arquivo de mídia oculto> Iae baby Terminando aqui <Arquivo de mídia oculto> Ta 😘😘😘😘😘😘 Bom dia kk poxa to esperando vinicius <Arquivo de mídia oculto> <Arquivo de mídia oculto> <Arquivo de mídia oculto> O teste deu agora é a clinica E É de 7horas Viu Ta bom 😘 <Arquivo de mídia oculto> Bom dia baby Eu fiquei no pc Kķkkk Te  amo Kkķkk Ta bom Agr 00020101021126460014br.gov.bcb.pix0124britojuliano99@gmail.com5204000053039865802BR5925Juliano Fernandes Dias Ta6009SAO PAULO622905251FGHK5KREWDJ8AM61JMA93AND6304CA70 Era pra transferir um dinheiro entre as minhas contas Lá pras 6h Eu vou <Arquivo de mídia oculto> <Arquivo de mídia oculto> Vai Tp saindo agr 101 n3 Ne ? Bom dia amor Espera Ta atualização Na Mas se quiser colocar hj Já melhora a situação Mas da pra fazer na hora do almoço Ta Mas se vc quiser Eu ligo pra painho ai combina de almoçar e bota hj Pode Vai da certo Graças a deus Tudo Kkkkkkkk <Arquivo de mídia oculto> Viu baby Eu vou na academia <Arquivo de mídia oculto> <Arquivo de mídia oculto> <Arquivo de mídia oculto> <Arquivo de mídia oculto> Mentira Tu chama de tard4 <Arquivo de mídia oculto> Cheguei Mas u esqueci a chave Ai esperar mainha aqui Foi um passamento Depois do jogo Ai achavam que ele tinha tido um infarto Pq o time tava jogando tão ruim Mas parece que tá bem agr Mainha chegou agr <Arquivo de mídia oculto> <Arquivo de mídia oculto> Eita <Arquivo de mídia oculto> <Arquivo de mídia oculto> <Arquivo de mídia oculto> <Arquivo de mídia oculto> <Arquivo de mídia oculto> <Arquivo de mídia oculto> Bom dia Iae Vim no lab <Arquivo de mídia oculto> Cheguei Tô aqui ja Eu achei que tinha mandado Kkkkkk Tô n baby Tô de boa <Arquivo de mídia oculto> Oi Viu 10 min eu saio Já peguei T0 pronto <Arquivo de mídia oculto> Va Pode Ei te amo Ia4 Fez Vixi Kkkkk Quando tiver pronto eu digo Tô cagando aqui <Arquivo de mídia oculto> <Arquivo de mídia oculto> <Arquivo de mídia oculto> Bom dia <Arquivo de mídia oculto> Cheguei sim, amor tb te amo Bom dia baby to bem aqui na clinica tb te amo amor beijo 450 o dia Pq isso ? <Arquivo de mídia oculto> Oi Kkkk voltou agr Vixi Oi Bom dia é hj a tarde ai cris ta la To na clinica Ah Oi baby O povo tá aqui Viu meu amor Bom dia baby Iae como vc ta Tá melhor mais eu apaguei Capote To em casa A pessoa tá instalando Na verdade cortando o móvel que veio errado <Arquivo de mídia oculto> <Arquivo de mídia oculto> <Arquivo de mídia oculto> <Arquivo de mídia oculto> Vou ver ainda Blz Mas tá uma confusão aqui Ei venha não Que tá uma poeira Fiba Fina Gigantw Ah Tá na metade Oi fui não ele falou nd Kkkkkk <Arquivo de mídia oculto> <Arquivo de mídia oculto> Safadinha Te amo 😘😘😘 To te amo amor boa noite beijo ate amanha <Arquivo de mídia oculto> eu to em cas iae como foi ai deu certo ah de que horas a sentença sai foram almoçar acho que acaba a cozinha ] e fica só o meu banheiro e uma peça que ficou 1cm maior na altura caiu ai tu n ligou kkk Bom dia Baby n vai ter o lançamento acredita sei nao amor vamo ai vc escolhe mais tarde umas 6 7 horas acabaram aqui Vim aqui no santiagos almoçar <Arquivo de mídia oculto> <Arquivo de mídia oculto> <Arquivo de mídia oculto> <Arquivo de mídia oculto> To de calça e polo Vixi Cheguei em casa agr Viu vou tomar banho ainda Saindo <Arquivo de mídia oculto> Pq Mas pra q a televisão Acho que não Pq o povo parece que já foi todo mundo <Arquivo de mídia oculto> Viu https://maps.app.goo.gl/WFWHkJhPrn5EdjwXA vixi o meu deu um bug tb Tranquilo eutb mas tu comeu um bocado de salgado depois tb é baby eu vou ver se eu vou no lab pegar minhas coisas que eu deixei la eu perguntei aqui vou ver pq ta cheio de coisa minha ai eu ia pegar logo eu queria era ficar se ta com essa gastura kkk uma hora passa To indo agr <Arquivo de mídia oculto> <Arquivo de mídia oculto> <Arquivo de mídia oculto> <Arquivo de mídia oculto> <Arquivo de mídia oculto> <Arquivo de mídia oculto> Bom dia amor <Arquivo de mídia oculto> Mas acaba que horas ai? <Arquivo de mídia oculto> Fechou Pois ela disse nd ainda Deu não Mas vai Vai tentar pela internet Consegui o documento Pelo goc.br Ela fez uns 38 passos viu 3 tutorial ai conseguio Isso mesmo Bom dia amor É Bráulio não baby É a dermatologista Mesmo <Arquivo de mídia oculto> Mas o dono da lancha é o cabeça branca 🎻🎻 vai pra dias hj ? ah mas cedo hj ? pq geralmente é as 17 pra saber viu <Arquivo de mídia oculto> Iae baby Como vc ta ? Vim aqui no lab Mas já tô voltando é vou pra acad Com os menino aqui do prd Chegueu <Arquivo de mídia oculto> Bom dia Bom dia baby Foi 2 reais a consulta De escuta vc Meu carregador ficou lá na casa dele Foi bom Oi amor 😘 😘😘😘 Te amo Tb baby Oi baby Bom dia Já me candidatei pra esse Vi <Arquivo de mídia oculto> <Arquivo de mídia oculto> Que calor Insuportavel Eu vou morrer <Arquivo de mídia oculto> iae meu celular arriou e eu esqueci a bolsa na clinica oi to em casa que audio? <Arquivo de mídia oculto> Que colocou Ia da um cochilo baby Te amo viu e tenso esse <Arquivo de mídia oculto> <Arquivo de mídia oculto> <Arquivo de mídia oculto> <Arquivo de mídia oculto> <Arquivo de mídia oculto> Boa noite bab6 Bom dia Oque foi Baby Ei Oi Iae <Arquivo de mídia oculto> Ah Era só pra falar comtu Beleza Tá  bom <Arquivo de mídia oculto> Tá Quando sair eu digo <Arquivo de mídia oculto> <Arquivo de mídia oculto> <Arquivo de mídia oculto> <Arquivo de mídia oculto> <Arquivo de mídia oculto> <Arquivo de mídia oculto> Vixi Com oque Vixi Amor Vc tá bem Eu tô saindo agr daqui <Arquivo de mídia oculto> <Arquivo de mídia oculto> <Arquivo de mídia oculto> <Arquivo de mídia oculto> Bom dia Eu vou comprar viu Kkkk tá bom <Arquivo de mídia oculto> Deu <Arquivo de mídia oculto> Tá bem Vc Tava na aulw Oi amor Foi Eu tive aula até as 6 É 30 É o cel fui olhar só depois É tu tava na aula Bom É pro artigo <Arquivo de mídia oculto> <Arquivo de mídia oculto> <Arquivo de mídia oculto> Eita Uhum Vai da certo Em casa <Arquivo de mídia oculto> Da certo Pode set blz Blz Tu vai subir Ou vai direto Tô descendo Bom dia Adorei a figurinha <Arquivo de mídia oculto> <Arquivo de mídia oculto> kkkkkkk <Arquivo de mídia oculto> <Arquivo de mídia oculto> gostei Oi meu amor Boa noite baby 😘😘😘 Bom dia amor <Arquivo de mídia oculto> Hj to Vc vem aqui De noite Ou eu posso ir pra ai Show <Arquivo de mídia oculto> <Arquivo de mídia oculto> Bom dia <Arquivo de mídia oculto> Eu tb liguei nem vi eu entendi foi nd to terminando aqui na clinica gostei do video mas não subisidiar combustivel é uma boa sqn vulgo gasolina a 7 conto e o povo puto <Arquivo de mídia oculto> <Arquivo de mídia oculto> Sei não t9 indo pra casa agr <Arquivo de mídia oculto> Ah vamo sair tomar uma Tô indo Faz 30 min Tô saindo agr <Arquivo de mídia oculto> Tô aqui <Arquivo de mídia oculto> Ta bom Eita Eu acho que vou tb Oi Amor Ah Totem ? iae baby eu tive aula hj n vou não ela ta de carro ta bom boa noite baby Bom dia amor Bom dia baby Acho q n Iae <Arquivo de mídia oculto> Vamos sei não 4:30 ou um pouco antes que eu ia no shopping comprar umas coisas pra mim de escritorio folha borracha essas coisa eu só não almocei ainda pq comi era 11h ta bom vamos então ai tu me pega 3 e 30 a certo ?? Tô saindo Bom dia Sonhei com tu hj No avião É xalala to na clinica dor de barriga tensa hj de manha foi bem aquele chocolate e o calzoni ainda comi pipoca de noite <Arquivo de mídia oculto> <Arquivo de mídia oculto> Kkkkk Tb e amo Tava terminado ali a lista de vibrações Pra começar a ler as coisas do concurso é fazer algumas questões Mas eu já li as fichas duas vezes hj <Arquivo de mídia oculto> <Arquivo de mídia oculto> <Arquivo de mídia oculto> <Arquivo de mídia oculto> Mas tarde eu conto Cheguei Boa noite baby Qualquer um direito constitucional Deu pra fazer o curso completo do básico de sql Ai tô fazendo o outro aqui de como juntas os bancos de dadoa <Arquivo de mídia oculto> Kkk Boa noite baby Boa noite <Arquivo de mídia oculto> Kkkkk <Arquivo de mídia oculto> <Arquivo de mídia oculto> Eita Os dois então vai ser parecido Um cai controle externo e o outro interno Já tô no artigo 975 é falando das empresas e dos empresarios quem pode ou nao pode ser e oque tem que registrar no registro publico de empresas mercantis ah mas eu to lendo tipo no 977 e 978 é sobre se a pessoa é casado oque pode ou não kkk homi ta tranquilo o que a pessoa n entendi tem explicando na internet bem direitinho <Arquivo de mídia oculto> Vou ficar em casa Tô esperando mainha aqui na clinica Pra eu poder ir pra acadejia Viu Eu posso ir pra ai Eu vou ficar estudando Hj eu só fiz questão De tarde Blz Qualquer coisa eu posso ir pra ai tb Se vc quiser Show compra uma cervejinha então Pra ir lendo é tomando Direito civil é meio esquisito tem umas questões Kkkk Mas eu tô pegando o conceito Ali aonde ? KKkkkk espetinho nilda Falta agr pra ler daquelas matérias só constitucional Ai eu consegui ler a base de tudo um pouco Eu fiquei mas de hora esperando a veia Cheguei na academia agr Eu falei era 17h Vdd Mas é que eu ainda tava esperando <Arquivo de mídia oculto> Acabei Eu vou Te pego 30 min +-10 eu chego De carro <Arquivo de mídia oculto> 🙏🙏🙏 Boa noite amor Tb baby 😍😘 kkk acho que la vende n mas eu passo num canto que deve ter eu ia no ponto dos botoes do via Tô indo agr Vai precisar que eu leve lençol ou vc vai levar A toalha eu coloquei Mas eu levo o de casal Leve só uma toalha então <Arquivo de mídia oculto> Blz Quando chegar eu digo Iae Mas cheguei em casa ainda n Cheguei 15 min pode vim Tô pronto Bom dia baby Me candidatei Tava respondendo às perguntas 27 pergunras de tudo como fosse uma entrevista tudo escrita é menina oi amor ta terminando a aula aqui ai eu ligo viu amor te amo viu baby <Arquivo de mídia oculto> Oi amor Tava estudando Pro concurso Mas agr tô conversando com ela Mainha Kkkkkkk <Arquivo de mídia oculto> <Arquivo de mídia oculto> Cheguei Que u fui cancelar Kkkkkkkk o painho Te amo https://youtu.be/I8va_ChEIAI Eu tinha visto esse clipe não me arrepiei todinho Bom dia amor Hj n <Arquivo de mídia oculto> Ah te amo viu <Arquivo de mídia oculto> <Arquivo de mídia oculto> Eh Tá bom beijo Oi amor Eu volto cedo Te amo amor <Arquivo de mídia oculto> https://www.youtube.com/watch?v=WuTJ75WjzbU <Arquivo de mídia oculto> <Arquivo de mídia oculto> ta bom Tô indo Bom dia Amor Eita <Arquivo de mídia oculto> Ei Bora sair hj Sai ou tu tem aula hj ? <Arquivo de mídia oculto> Rlx Que eu ainda tô na clinica Um canto bom Deixe Agente vai amanha Hj eu tô cansado tb E tenho que ir pra academia Aí tô deitado aqui Recebi dinheiro Sim Tá sim Tô um pouco Passei o dia na clinica Ainda fui na marinha Oi Dormir Matheus Oi Baby Cheguei em casa Bom dia baby é assim mesmo to em casa vendo aula do cursinho carai essas aulas no 1.0 n tem como muito lento tava no 1.5 mas 1.75 fica topo top mas tu coloca no 2.5 Vixi tô fazendo aqui direito civil Já tô desenrolando um pouco Depois da questão 60 tá melhor Tem 660 questões da fgv Dos temas sã prova <Arquivo de mídia oculto> <Arquivo de mídia oculto> Blz Tô aqui na praça ainda Ei Bora ali no rodízio do habbis <Arquivo de mídia oculto> Tô pronto Boa noite Tô bem da barriga não ta ruim parece que saiu uma lama ta doido ta só o roi roi comi la na padaria de lais hj <Arquivo de mídia oculto> Blz Eu acabei agr Ai Maranhão vai me deixar <Arquivo de mídia oculto> <Arquivo de mídia oculto> <Arquivo de mídia oculto> <Arquivo de mídia oculto> Blz Peça que demora <Arquivo de mídia oculto> Ainda não saiu <Arquivo de mídia oculto> Secura do cão Eu volto depois do lançamento com o professor Hoje Com o professor Ckkkkkkk <Arquivo de mídia oculto> <Arquivo de mídia oculto> Tô saindo agr daqui Acho que umas 8 eu chego Ou um pouco antes Oi Viu Passei por Santa Maria Agr Eu falei com ela Deixa eu tomar um banho Antes kkk Ai decide Tá bom bonitinha Mas simples mesmo Bastante Vamos então Menina Depois do esforço que eu fiz pra voltar hj Eu mereço como um bom namorado O pneu furou Ainda na estrada de barro Saindo lá do habitat Até a cidade Foi Kkkk Agr na volta Na estrada de barro Vi7 Viu 20 min eu chego Blz Tanto faz Mainha deixou a porta lá de casa aberta Blz 😘 Eu tô aqui já em Nova Parnamirim Cheguei Tô chegando em casa <Arquivo de mídia oculto> Bom dia amor <Arquivo de mídia oculto> Deu certo a prova a lista a lista tava bem mais dificil Blz Quando acabar ligue iae ? tu vem hj n eu ia treinar ? Kkkk Que isso Oi Tô indo pra academia agr Cheguei Baby 😘😘 Bom dia bom dia amor como vc ta to vamos eu acho que eu vou no sebrae ai eu falo com tu se eu demorar <Arquivo de mídia oculto> É Mas enrolado pra carai Oi amor Tava dando um cochilo <Arquivo de mídia oculto> Caiu <Arquivo de mídia oculto> Percebi <Arquivo de mídia oculto> a prova de terça deu certo só ficou eu e outro cara acima de 5 e ainda tem a lista vai da certo é online ne? ah eita lindinha <Arquivo de mídia oculto> <Arquivo de mídia oculto> <Arquivo de mídia oculto> <Arquivo de mídia oculto> <Arquivo de mídia oculto> chegou? boa noite amor <Arquivo de mídia oculto> kkkkkkkkkkkkkkk Bom dia amor <Arquivo de mídia oculto> Já to Eu tenho autorização Porém eu teria que anonimizar Pra fazer uma analisr <Arquivo de mídia oculto> Vim no Sebrae Tirar os bombeiros Ah Vou denovo nos bombeiros Deu certo aqui Ainda vai ter uma capacitação de lgpd Por aqui ai Só que vai ser próxima semana Iae Kkkkkk <Arquivo de mídia oculto> <Arquivo de mídia oculto> Por ai Eu chego <Arquivo de mídia oculto> Vamos Tô aqui em dona sania Peguei mainha aqui Blz Se maquiar? Tá bom amor Ei Tô aqui Tô tomando banho <Arquivo de mídia oculto> <Arquivo de mídia oculto> <Arquivo de mídia oculto> Viu <Arquivo de mídia oculto> Pajero <Arquivo de mídia oculto> Tá chegando Tô aqui na universal Mande a alexandro <Arquivo de mídia oculto> Em casa Ne Eu vou da uma estudada hj de tarde Antes de ir pro negocio Vai ser umas 5h Vc quer que eu passe ai Da pra ir 17 É 30 Eu dormi mesmo Ainda nao Blz Blz 5 min Tô pronto Bom dia <Arquivo de mídia oculto> <Arquivo de mídia oculto> Iae baby Tô bem Te amo Amo u tb 🙏👏👏👏 Tô indo agr Eu dei um cochilo Da moléstia agr De 7 às 9 Apaguei No sofá de boca aberta Depois fui pro quarto 😘😘😘😘 To voltando agr Cheguei em casa <Arquivo de mídia oculto> bom dia amor <Arquivo de mídia oculto> Mandaram no grupo do prd Tô fazendo aqui o simulado do grancursos Parece que não acaba as questões Tá doido bigodinho 100 Oi baby Tô voltando agr Quando chegar eu ligo Chegou amor <Arquivo de mídia oculto> Fiz Feu Deu B9a noite amor <Arquivo de mídia oculto> Valaha Valha pq 2 Só 1 já era suficiente menina Mas deve ser pq vc tava correndo é cansada tb E Me incomodaria Vá não eu te proibo É Tem sim Kkkkk <Arquivo de mídia oculto> É o de leila Nao Mandei ainda n respondeu Demais Oi baby agr tô sem sono Bom dia amor <Arquivo de mídia oculto> gostaria ne kkk passe aqui antes ? eu ia comer agr n ia almoçar só la pras 2h ah passe aqui depois do trabalho mas tu ta em casa ? kkkk blz venha pra ca ai vc almoca ou agente sai pra almocar viu amor suba Iae Vim aqui no nordestao Comprar na blackfriday Chivas é gordons E hogardeen Tava Foi <Arquivo de mídia oculto> Bom dia <Arquivo de mídia oculto> Ei Veja e ficou bom Goatei Iar Ainda n Tô na academia Acabei demorando pra vim ai Só comecei 17 É 50 Blz Tô aqui na fila do carrefour <Arquivo de mídia oculto> <Arquivo de mídia oculto> Café vca Vcs Chegou amor ? Te amo Viu 😘😘😘😘 <Arquivo de mídia oculto> Promoção peguei contra file a 20 Fraldinha  20 É capa de file a 15 Tô aqui <Arquivo de mídia oculto> <Arquivo de mídia oculto> <Arquivo de mídia oculto> Posso n Tenho aula Oi Oi, amor Cheguei em casa <Arquivo de mídia oculto> <Arquivo de mídia oculto> Tô indo agr Vamos Tô pronto Vou sair 5 min daqui <Arquivo de mídia oculto> <Arquivo de mídia oculto> Tô aqui na marinha <Arquivo de mídia oculto> Tá bom <Arquivo de mídia oculto> Boa sorte amor 😘😘 <Arquivo de mídia oculto> Kkk É bixinha E quanto se salario Ah Eu n pensaria É Foca na lgpd Vai da certo Eu tô acreditando muito nisso Vai a certo Ei fui treinar lá na academia nova Chega a pessoa treina focado n tem distração Tinha ninguém na parte de baixo na hora que agente tava treinando <Arquivo de mídia oculto> <Arquivo de mídia oculto> O a doutora <Arquivo de mídia oculto> Acabou aqui fui pro céu e boltei Voltei Mas tô vivo Cheguei Eu tô triste tb Kkkkk Te amo Eu sei <Arquivo de mídia oculto> Eu tb queria 😘😘😘 Oi amor Kkk Vou no Midway agt Agr Ainda N oi baby como vc ta kkkk te mo viu amo Ainda não Oi amor Fui pra academia é corta o cabelo Diga só a hora mais ou menos que é pra pegar <Arquivo de mídia oculto> Sim Eu tô só esperando aqui pra me vesti Ah Então vou te Pegar só vc Mas eu n sabia é Ana n falou nd Falou só agr de noite Mainha tá passando a camisa Mas tá no fim Já tô vestido falta só a camisa <Arquivo de mídia oculto> Tô saindo aqui de casa Bom dia amor Vixi Como tá mudada Eu tô me cagando o nacional ne ah mehor To Vou almoçar lá em fala pouco É Klinger Dnv Oo Tô no lab Vou sair agr Acho da certo Vc vai dormir Lá em casa Ou te pego Kkk Quer sair pra comer Kkkk Na vdd acho que tem o contra file Ai eu faço Vai Mas n de carro Eu acho <Arquivo de mídia oculto> 15 min passo pra te Pegar Por ai Iae amor Blz Kkkkk Esperar aqui o povo pra começar Eu te vejo ai Blz Viu Ah Kkk Sobra de editora Bom dia O teu nubank Ficou aqui em  casa Viu ainda não to fazendo aqui o mesmo problema ja duas semanas do trabalho de trasncal ah a clinica ta primeira o foda é só se ele tiver pego covid <Arquivo de mídia oculto> 😘😘😘😘😘😘😘😘😘😘😘😘😘😘😘 Oi Bom dia amor <Arquivo de mídia oculto> Acho que data Tem um pouco mais de emprego que 3d <Arquivo de mídia oculto> Tô em casa Amor botei uma macaxeira pra cozinhar Aonde? Ah Kkk <Arquivo de mídia oculto> Te amo viu amor Eita Boa noite baby <Arquivo de mídia oculto> Ah Kkkk Por mim eu ia lá pra tia Patrícia Kkkk blz Tá tudo otimo que confraternização kkkkk ei a pessoa desiste do trabalho no dia da apresentação eu fiz sozinho tudo kkk <Arquivo de mídia oculto> Foi <Arquivo de mídia oculto> Eu vim comer um açaí aqui depois do treino Ai quando chegar em casa eu digo Blz Show chegasse te amo viu bom dia amor kkkk painho o ancião da telern eu acho que dos vivos ele é um dos poucos <Arquivo de mídia oculto> <Arquivo de mídia oculto> <Arquivo de mídia oculto> <Arquivo de mídia oculto> Tá Blz Bom dia Tô bem Vamos Tava arrumando uns papéis aqui Blz Já sim, amor Oi Pode No val Que eu vou sujar aqui n <Arquivo de mídia oculto> <Arquivo de mídia oculto> Blz Blz Ok <Arquivo de mídia oculto> Oi Tava dando um cochilo Aqui Eu vou falar com ela Mas achei que ela tava de boa já que eu já tinha pedido desculpa Ah... Tá bom 😘😘😘😘 <Arquivo de mídia oculto> Nas 4 <Arquivo de mídia oculto> È A pessoa pode ver o jogo Viu <Arquivo de mídia oculto> Tp indo Kkkkkk Pego Eu tô com o braço que tá doendo digitar kkk <Arquivo de mídia oculto> <Arquivo de mídia oculto> bom dia amor iae as noticias ah blz ah tudo bem é amor É o enterro? tudo bem estudando aqui pra parclear a casa ´pela caixa parcelar kkkk Ah Ah era só pra ligar Kkk Blz Fui Tô só o p Pó Fui só Tá com diarreia eu to só o po do po tu ta no outback ainda ? Ah então depois eu mando o audio ele tava com uma diarreia fudida desde de ontem acho que não <Arquivo de mídia oculto> https://youtu.be/4_cOHJy-d-o Bom a Dia Oi amor <Arquivo de mídia oculto> <Arquivo de mídia oculto> Blz Comprei 30 Quando eu entrei na faculdade eu participei do primeiro congresso sobre o x14 É eu conheço 4 caras que trabalharam nisso no mestrado <Arquivo de mídia oculto> Estão querendo mudar a urna eletrônica e colocar apenas os números 1 e 3 na urna para não conseguirmos votar no capitão.Isso a mídia não mostra.🇧🇷🇧🇷🇮🇱🇮🇱 iae amor Kkkkk Só o pó Lkkkkkkkk te amo lesa Oi amor Vi agr Tava estudando Te amo Boa noite <Arquivo de mídia oculto> Tá dando certo viu[ ta bom amor te amo deu certo a prova acabei aqui deu mas ou menos sim graças a deus <Arquivo de mídia oculto> <Arquivo de mídia oculto> <Arquivo de mídia oculto> Primeiro domingo de fevereiro <Arquivo de mídia oculto> Viu Love u Eu vou n Beleza <Arquivo de mídia oculto> <Arquivo de mídia oculto> Bom dia Vdd menos mci é eletrotecnica 150 vagas Caralho <Arquivo de mídia oculto> Era kkk Eu vou meter a estudar aqui Muita vaga Tem as férias o foda é largar o tcu Porém ainda n paguei a inscrição mesmo Claro porém o tcu eu n sei nem de metade Petrobras é estável porém é clt Exatamente Como no tcu tb Ah se eu chegar ah levar um processo disciplinar eu realmente n me encaixo na empresa Sim sim mas eu n ligo pra isso n Sim amo4 Mas eu n penso nisso n <Arquivo de mídia oculto> <Arquivo de mídia oculto> Vdd É estudar pra ficar sabido <Arquivo de mídia oculto> <Arquivo de mídia oculto> <Arquivo de mídia oculto> <Arquivo de mídia oculto> No laser <Arquivo de mídia oculto> Vai da certo O canal Eu ia Tô na clinica Eu fui refazer as contas aqui a porra da tabela configurou os números como texto aí tava dando um bus do carai Bug <Arquivo de mídia oculto> <Arquivo de mídia oculto> <Arquivo de mídia oculto> Ah Eu ? Quem tem que dizer é vc <Arquivo de mídia oculto> Cheguei em casa 20 min tô ai Ainda n O povo ainda n tava la Cheguei <Arquivo de mídia oculto> <Arquivo de mídia oculto> Vamos Vc quem sabe Lá no catita começa às 22 Blz Blx Blx Tô esperando vc É pra ir pra frente ? Do aqui na frente esperando Tava esperando Fui no banheiro Tudo bem também <Arquivo de mídia oculto> Deu muito top só tô com calo no pé Oi <Arquivo de mídia oculto> Se ficar tarde Oi amor Eu posso agr <Arquivo de mídia oculto> <Arquivo de mídia oculto> <Arquivo de mídia oculto> <Arquivo de mídia oculto> <Arquivo de mídia oculto> É amanhã no almoço <Arquivo de mídia oculto> Tô top Melhorei ela tb Terminei as entradas e o a receber Tb te amo 😘😘😘 Oh <Arquivo de mídia oculto> <Arquivo de mídia oculto> Kkkk Monstro https://youtu.be/3mNDTA3ubLs Te amo <Arquivo de mídia oculto> Iae ainda tao falando aqui de ir no midway vou n entao to todo quebrado parece que deram em mim de pau as costas toda dura kkk vixi kkkk Kkkkkkkkk Lotado oi to estudanfo vo pra academia hj n mas daqui a pouco vou la em vovo ver o negocio da maquina blz fiz o simulado aqui do tcu na parte especifica fiz 24/50 ainda tem coisinha demais pra estudar meu amigo <Arquivo de mídia oculto> Então venha <Arquivo de mídia oculto> Não Traga então <Arquivo de mídia oculto> <Arquivo de mídia oculto> Blz <Arquivo de mídia oculto> <Arquivo de mídia oculto> Dia 28 Vdd Vamos Ele disse nd Ele disse sim <Arquivo de mídia oculto> <Arquivo de mídia oculto> Ainda n 5 min <Arquivo de mídia oculto> Sai da academia agr <Arquivo de mídia oculto> Chique ein Sim <Arquivo de mídia oculto> <Arquivo de mídia oculto> <Arquivo de mídia oculto> Fiz e lavei a louça 5o só o pó Deixar as polpas É sim Tô pronto só esperando mainha <Arquivo de mídia oculto> <Arquivo de mídia oculto> <Arquivo de mídia oculto> <Arquivo de mídia oculto> Pode tb Blz Iae Entreguei lá no baldo Que era o canto que tinha mais gente Deu Tinha umas 20 a 30 pessoas Eu já to Pq ? Ei depois de lá Mateus chamou pra ver iury la na zona abissal Pq é perto Que vai ser lá na Maria Lacerda o aniversario Viu Vou sair <Arquivo de mídia oculto> <Arquivo de mídia oculto> <Arquivo de mídia oculto> <Arquivo de mídia oculto> Oxe eu só fui falar Não fiquei Ta bom amor Eu vou Oi eu vou em casa <Arquivo de mídia oculto> Iae tu foi la Ah coisa boa 👏👏🙏🙏 <Arquivo de mídia oculto> <Arquivo de mídia oculto> Vixi <Arquivo de mídia oculto> <Arquivo de mídia oculto> Oi amor Tava estudando Vc melhorou Passou <Arquivo de mídia oculto> Oi <Arquivo de mídia oculto> <Arquivo de mídia oculto> Ta bom amor te amo Tá bom amor Cheguei Boa noite amor Não Tô morrendo de sono Bom dia Assistir Ri que só 😘😘😘 kkkkkkkkkk eu terminei aqui ja algumas coisas de tarde é só o mais rapido <Arquivo de mídia oculto> Oh onde eu vim almoçar <Arquivo de mídia oculto> Eita Mensagem apagada <Arquivo de mídia oculto> <Arquivo de mídia oculto> Tô em casa só vou olhar umas coisas aqui Mas já organizei a bolsa <Arquivo de mídia oculto> <Arquivo de mídia oculto> Blz <Arquivo de mídia oculto> blz painho ta la blz <Arquivo de mídia oculto> Pode vim Como assim ? Ta bom bote o carro dentro <Arquivo de mídia oculto> Pois tô aqui embaixo <Arquivo de mídia oculto> Te amo feliz ano novo viu <Arquivo de mídia oculto> <Arquivo de mídia oculto> Oi amor <Arquivo de mídia oculto> <Arquivo de mídia oculto> viu vou daqui a pouco a academia conseguir botar pra imprimir pq tava dando pau aonde no cinema <Arquivo de mídia oculto> <Arquivo de mídia oculto> Boa noite amor <Arquivo de mídia oculto> Oi amor tô aqui em vovó Sim, vou <Arquivo de mídia oculto> Cheguei <Arquivo de mídia oculto> Oi Cheguei na clinica Tava rodando Entreguei tudo Blz <Arquivo de mídia oculto> <Arquivo de mídia oculto> Kkkkkkkkkk <Arquivo de mídia oculto> <Arquivo de mídia oculto> Tô pronto Bota o short <Arquivo de mídia oculto> <Arquivo de mídia oculto> <Arquivo de mídia oculto> Tá melhor eu dormir Até agr Bom dia baby So tem foto Cara de beba da moléstia <Arquivo de mídia oculto> <Arquivo de mídia oculto> É isso amor Acho que sim baby <Arquivo de mídia oculto> <Arquivo de mídia oculto> <Arquivo de mídia oculto> Oi amor Tava dormindo Tô com uma dorzinha na garganta <Arquivo de mídia oculto> Ah ainda bem Bem, graças a Deus To só suando a febre Tô estudando aqui Já tomei 2 Chá de alho Tb te amo Amor <Arquivo de mídia oculto> https://www.youtube.com/watch?v=C30oD7w2nOw https://www.youtube.com/watch?v=R9Q-WpxxATs https://www.youtube.com/watch?v=cWpwQGdCqWA Bom dia baby Graças a Deus Tô otimo Melhor n baby Era Ainda n tô bem mais n queria passar nd pra vc Eu tô cansado gostei fez aonde ? kkkkkkkkkkkk Ficou massa <Arquivo de mídia oculto> <Arquivo de mídia oculto> <Arquivo de mídia oculto> <Arquivo de mídia oculto> <Arquivo de mídia oculto> Kkk tá bem Vai da tudo certo viu quando entrar avise viu 🙏🙏🙏🙏🙏 <Arquivo de mídia oculto> Tive aula e tava estudando Eu tô tu vem Venha Tu ainda tá no hospital achei que tava em  casa blz to esperando <Arquivo de mídia oculto> Tá bom tá em seu pai? Pq ? Pode ligar ? Onde na casa dele Ah... Kkkk Ele comprou mais coisa foi ? kkkkkkkk Viu <Arquivo de mídia oculto> Positivo E mainha negativa Vá lá pra casa Que é mais espaço Sei n baby Pq lá em casa fica o dia sem ninguem Ai tem mais espaço Lá na tua o povo fica direto Aí tem nem como ir na cozinha <Arquivo de mídia oculto> Pronto <Arquivo de mídia oculto> vai ver eu consigo de graça kk <Arquivo de mídia oculto> Achando que era a gripe Pode ser os dois Ah.... otimo Oi Tava estudando no computador 😘😘 <Arquivo de mídia oculto> Bom dia amor <Arquivo de mídia oculto> Lkkkkkk Eu dei foi m cochilo depois Eu vou ter aula agr \\U0001f972 <Arquivo de mídia oculto> https://youtu.be/kWLpiogS3IQ https://youtu.be/og2jhqemrzU https://youtu.be/DxREm3s1scA https://play.chess.com/mbEnp Oi <Arquivo de mídia oculto> Iae Bom dia bora eu to online eu to mandei Iae Da dando vc n disponivel Bom dia Vi n Eu dormir Tb Iae <Arquivo de mídia oculto> <Arquivo de mídia oculto> <Arquivo de mídia oculto> Ah... Pra mim tava contigo Mas de boas Eu vou fazer lá na farmácia denovo <Arquivo de mídia oculto> Iar Nem consegui faz3r o teste Mas como amanhã É os 10 dias tá de boaa É mainha fez tb Tu vem pra cá ou só amanhã Kkkk <Arquivo de mídia oculto> <Arquivo de mídia oculto> <Arquivo de mídia oculto> <Arquivo de mídia oculto> Kkkk Te amo viu Piriquitao <Arquivo de mídia oculto> Kkkkk Boa noite anor Bom dia amor Teu pai Kkkkk fui n chegou o teste de mainha deu positivo ela vai ficar em casa até segunda parece que foi para as pessoas fazerem menos os testes parece <Arquivo de mídia oculto> <Arquivo de mídia oculto> <Arquivo de mídia oculto> <Arquivo de mídia oculto> boa noite amor Bom dia baby como vc ta Vixi Tava estudando aqui Iae <Arquivo de mídia oculto> é oque tu disse então quando tem outra conta antes fica como se n tivesse é fica na que entrou antes vou mas tarde umas 7 h n menina to fazendo o trabalho de transcal kkkk ta bom eu dou <Arquivo de mídia oculto> Bom dia Sim amor vamos sim Eita Viu Tu me colocou em esoera Espera Pode Viu Vou sair daqui a 5 min Bom dia amor Posso sim Amor Viu Vai bater o raio x Viu Boa noite amor <Arquivo de mídia oculto> Nem mande8 Mandei Kkkkkk Bom dia amor Tô aqui na clinica Viu Mandei Ô trabalho eu acabei ainda n E ainda o professor ainda colocou aula. Síncrona Consegui terminar o trabalho de transcal O codigo <Arquivo de mídia oculto> Boa noite amor te amo Bom dia baby Eu vou ver se consigo Pq eu ia ter uma reunião Mas parece que vai adiar e novo <Arquivo de mídia oculto> Acabei <Arquivo de mídia oculto> Ô trabalho É eu fiquei sem saber oque falar mas esse eu vou tirar <Arquivo de mídia oculto> Bom dia <Arquivo de mídia oculto> <Arquivo de mídia oculto> <Arquivo de mídia oculto> <Arquivo de mídia oculto> Depois de lá eu vou te pegar Cheguei aqui Oi baby Eu fiquei até 3 h ontem estudando Aí acordei mais tarde O professor adiou Mas eu tava fazendo o trabalho <Arquivo de mídia oculto> <Arquivo de mídia oculto> Academia Agr Vixi Então tu vai vim n A gente se ver amanja Eu tô saindo agr <Arquivo de mídia oculto> Bom dia viu Blx Sim Blz <Arquivo de mídia oculto> <Arquivo de mídia oculto> <Arquivo de mídia oculto> foi viu maranhao ta me ajudando aqui a corrigir o trabalho renviar n no meet eu to sem caro carro junto pra aonde pra sua casa ah sim mas tu ja vem pronta ? Tô pronto Imprimi Qual carro Baby Foi Encontro Se precisar eu te pego Viu Tô aqui em vovó Vou Tô saindo agr Boa noite Bom dia Vi n ainda Tá no escritório? 🙏🙏 Tô indo na marinha agr Deu Iae como vc ta vixi maria mas ta melhior melhor? <Arquivo de mídia oculto> oi amor Kkkkk A bixa lesa Ah.. Depois ligue Tô me arrumando <Arquivo de mídia oculto> iae amor iae consegui terminar o trabalho ontem iae como vc ta ta conseguindo trabalhar melhor <Arquivo de mídia oculto> <Arquivo de mídia oculto> Diz Cazuza <Arquivo de mídia oculto> viu olha ela Realmente vc tem probleminhas bom dia Tô ótimo Kkk te amo Kkkk Vai da certo Vixi baby Aí novosrumosterapiasintegradas.com Agr está no ar <Arquivo de mídia oculto> <Arquivo de mídia oculto> antes <Arquivo de mídia oculto> depois <Arquivo de mídia oculto> Ei É pra pegar tu To saindo agr Aí passo ai'"
            ]
          },
          "metadata": {},
          "execution_count": 7
        }
      ]
    },
    {
      "cell_type": "code",
      "source": [
        "\n",
        "df = pd.DataFrame(dadoAnalisado, columns=['data', 'hora', 'autor', 'mensagem'])\n",
        "df[\"data\"] = pd.to_datetime(df[\"data\"])"
      ],
      "metadata": {
        "id": "FLtWWIpv17tL"
      },
      "execution_count": null,
      "outputs": []
    },
    {
      "cell_type": "code",
      "source": [
        "dfdia=df.groupby(by=[\"autor\",'data']).count()"
      ],
      "metadata": {
        "id": "aVp88bYq2zb1"
      },
      "execution_count": null,
      "outputs": []
    },
    {
      "cell_type": "code",
      "source": [
        "\n",
        "def split_count(text):\n",
        "    emoji_list = []\n",
        "    data = regex.findall(r'\\X', text)\n",
        "    for word in data:\n",
        "        if any(char in emoji.UNICODE_EMOJI_PORTUGUESE for char in word):\n",
        "            emoji_list.append(word)\n",
        "\n",
        "    return emoji_list\n",
        "\n",
        "df[\"emoji\"] = df[\"mensagem\"].apply(split_count)\n",
        "\n",
        "URLPATTERN = r'(https?://\\S+)'\n",
        "df['urlcount'] = df.mensagem.apply(lambda x: re.findall(URLPATTERN, x)).str.len()"
      ],
      "metadata": {
        "id": "OAUhyft849yt"
      },
      "execution_count": null,
      "outputs": []
    },
    {
      "cell_type": "code",
      "source": [
        "\n",
        "total_mensagens = df.shape[0]\n",
        "media_mensagens = df[df['mensagem'] == '<Arquivo de mídia oculto>'].shape[0]\n",
        "emojis = sum(df['emoji'].str.len())\n",
        "links = np.sum(df.urlcount)\n",
        "\n",
        "print(\"Contagem geral dos dados do grupo: \")\n",
        "print(\"Mensagem:\",total_mensagens)\n",
        "print(\"Mídia:\",media_mensagens)\n",
        "print(\"Emojis:\",emojis)\n",
        "print(\"Links:\",links)"
      ],
      "metadata": {
        "colab": {
          "base_uri": "https://localhost:8080/"
        },
        "id": "7fpQ_Rw842Rx",
        "outputId": "52d411cc-40ef-4e3a-ac36-165dc61313ee"
      },
      "execution_count": null,
      "outputs": [
        {
          "output_type": "stream",
          "name": "stdout",
          "text": [
            "Contagem geral dos dados do grupo: \n",
            "Mensagem: 5827\n",
            "Mídia: 862\n",
            "Emojis: 297\n",
            "Links: 42\n"
          ]
        }
      ]
    },
    {
      "cell_type": "code",
      "source": [
        "\n",
        "media_mensagens_df = df[df['mensagem'] == '<Arquivo de mídia oculto>']\n",
        "mensagens_df = df.drop(media_mensagens_df.index)\n",
        "\n",
        "apagadas_mensagens_df = mensagens_df[mensagens_df['mensagem'] == 'Essa mensagem foi apagada']\n",
        "mensagens_df = mensagens_df.drop(apagadas_mensagens_df.index)\n",
        "\n",
        "mensagens_df['cont_letras'] = mensagens_df['mensagem'].apply(lambda s : len(s))\n",
        "mensagens_df['cont_palavras'] = mensagens_df['mensagem'].apply(lambda s : len(s.split(' ')))\n",
        "mensagens_df[\"cont_mensagem\"]=1\n",
        "mensagens_df[\"cont_emoji\"]= df['emoji'].str.len()\n",
        "mensagens_df.head()"
      ],
      "metadata": {
        "colab": {
          "base_uri": "https://localhost:8080/",
          "height": 206
        },
        "id": "R8LksuT45OsQ",
        "outputId": "306d3c5e-062b-4dee-b2df-9b14315cd352"
      },
      "execution_count": null,
      "outputs": [
        {
          "output_type": "execute_result",
          "data": {
            "text/html": [
              "\n",
              "  <div id=\"df-4e4b8869-76a6-48be-a035-35dd4614b088\">\n",
              "    <div class=\"colab-df-container\">\n",
              "      <div>\n",
              "<style scoped>\n",
              "    .dataframe tbody tr th:only-of-type {\n",
              "        vertical-align: middle;\n",
              "    }\n",
              "\n",
              "    .dataframe tbody tr th {\n",
              "        vertical-align: top;\n",
              "    }\n",
              "\n",
              "    .dataframe thead th {\n",
              "        text-align: right;\n",
              "    }\n",
              "</style>\n",
              "<table border=\"1\" class=\"dataframe\">\n",
              "  <thead>\n",
              "    <tr style=\"text-align: right;\">\n",
              "      <th></th>\n",
              "      <th>data</th>\n",
              "      <th>hora</th>\n",
              "      <th>autor</th>\n",
              "      <th>mensagem</th>\n",
              "      <th>emoji</th>\n",
              "      <th>urlcount</th>\n",
              "      <th>cont_letras</th>\n",
              "      <th>cont_palavras</th>\n",
              "      <th>cont_mensagem</th>\n",
              "      <th>cont_emoji</th>\n",
              "    </tr>\n",
              "  </thead>\n",
              "  <tbody>\n",
              "    <tr>\n",
              "      <th>0</th>\n",
              "      <td>2021-08-31</td>\n",
              "      <td>18:16</td>\n",
              "      <td>Fernanda</td>\n",
              "      <td>Aguardando mensagem</td>\n",
              "      <td>[]</td>\n",
              "      <td>0</td>\n",
              "      <td>19</td>\n",
              "      <td>2</td>\n",
              "      <td>1</td>\n",
              "      <td>0</td>\n",
              "    </tr>\n",
              "    <tr>\n",
              "      <th>1</th>\n",
              "      <td>2021-08-31</td>\n",
              "      <td>18:16</td>\n",
              "      <td>Fernanda</td>\n",
              "      <td>Aguardando mensagem</td>\n",
              "      <td>[]</td>\n",
              "      <td>0</td>\n",
              "      <td>19</td>\n",
              "      <td>2</td>\n",
              "      <td>1</td>\n",
              "      <td>0</td>\n",
              "    </tr>\n",
              "    <tr>\n",
              "      <th>2</th>\n",
              "      <td>2021-08-31</td>\n",
              "      <td>18:16</td>\n",
              "      <td>Fernanda</td>\n",
              "      <td>Aguardando mensagem</td>\n",
              "      <td>[]</td>\n",
              "      <td>0</td>\n",
              "      <td>19</td>\n",
              "      <td>2</td>\n",
              "      <td>1</td>\n",
              "      <td>0</td>\n",
              "    </tr>\n",
              "    <tr>\n",
              "      <th>3</th>\n",
              "      <td>2021-08-31</td>\n",
              "      <td>18:37</td>\n",
              "      <td>Juliano</td>\n",
              "      <td>Oxe</td>\n",
              "      <td>[]</td>\n",
              "      <td>0</td>\n",
              "      <td>3</td>\n",
              "      <td>1</td>\n",
              "      <td>1</td>\n",
              "      <td>0</td>\n",
              "    </tr>\n",
              "    <tr>\n",
              "      <th>5</th>\n",
              "      <td>2021-08-31</td>\n",
              "      <td>18:48</td>\n",
              "      <td>Fernanda</td>\n",
              "      <td>Viu</td>\n",
              "      <td>[]</td>\n",
              "      <td>0</td>\n",
              "      <td>3</td>\n",
              "      <td>1</td>\n",
              "      <td>1</td>\n",
              "      <td>0</td>\n",
              "    </tr>\n",
              "  </tbody>\n",
              "</table>\n",
              "</div>\n",
              "      <button class=\"colab-df-convert\" onclick=\"convertToInteractive('df-4e4b8869-76a6-48be-a035-35dd4614b088')\"\n",
              "              title=\"Convert this dataframe to an interactive table.\"\n",
              "              style=\"display:none;\">\n",
              "        \n",
              "  <svg xmlns=\"http://www.w3.org/2000/svg\" height=\"24px\"viewBox=\"0 0 24 24\"\n",
              "       width=\"24px\">\n",
              "    <path d=\"M0 0h24v24H0V0z\" fill=\"none\"/>\n",
              "    <path d=\"M18.56 5.44l.94 2.06.94-2.06 2.06-.94-2.06-.94-.94-2.06-.94 2.06-2.06.94zm-11 1L8.5 8.5l.94-2.06 2.06-.94-2.06-.94L8.5 2.5l-.94 2.06-2.06.94zm10 10l.94 2.06.94-2.06 2.06-.94-2.06-.94-.94-2.06-.94 2.06-2.06.94z\"/><path d=\"M17.41 7.96l-1.37-1.37c-.4-.4-.92-.59-1.43-.59-.52 0-1.04.2-1.43.59L10.3 9.45l-7.72 7.72c-.78.78-.78 2.05 0 2.83L4 21.41c.39.39.9.59 1.41.59.51 0 1.02-.2 1.41-.59l7.78-7.78 2.81-2.81c.8-.78.8-2.07 0-2.86zM5.41 20L4 18.59l7.72-7.72 1.47 1.35L5.41 20z\"/>\n",
              "  </svg>\n",
              "      </button>\n",
              "      \n",
              "  <style>\n",
              "    .colab-df-container {\n",
              "      display:flex;\n",
              "      flex-wrap:wrap;\n",
              "      gap: 12px;\n",
              "    }\n",
              "\n",
              "    .colab-df-convert {\n",
              "      background-color: #E8F0FE;\n",
              "      border: none;\n",
              "      border-radius: 50%;\n",
              "      cursor: pointer;\n",
              "      display: none;\n",
              "      fill: #1967D2;\n",
              "      height: 32px;\n",
              "      padding: 0 0 0 0;\n",
              "      width: 32px;\n",
              "    }\n",
              "\n",
              "    .colab-df-convert:hover {\n",
              "      background-color: #E2EBFA;\n",
              "      box-shadow: 0px 1px 2px rgba(60, 64, 67, 0.3), 0px 1px 3px 1px rgba(60, 64, 67, 0.15);\n",
              "      fill: #174EA6;\n",
              "    }\n",
              "\n",
              "    [theme=dark] .colab-df-convert {\n",
              "      background-color: #3B4455;\n",
              "      fill: #D2E3FC;\n",
              "    }\n",
              "\n",
              "    [theme=dark] .colab-df-convert:hover {\n",
              "      background-color: #434B5C;\n",
              "      box-shadow: 0px 1px 3px 1px rgba(0, 0, 0, 0.15);\n",
              "      filter: drop-shadow(0px 1px 2px rgba(0, 0, 0, 0.3));\n",
              "      fill: #FFFFFF;\n",
              "    }\n",
              "  </style>\n",
              "\n",
              "      <script>\n",
              "        const buttonEl =\n",
              "          document.querySelector('#df-4e4b8869-76a6-48be-a035-35dd4614b088 button.colab-df-convert');\n",
              "        buttonEl.style.display =\n",
              "          google.colab.kernel.accessAllowed ? 'block' : 'none';\n",
              "\n",
              "        async function convertToInteractive(key) {\n",
              "          const element = document.querySelector('#df-4e4b8869-76a6-48be-a035-35dd4614b088');\n",
              "          const dataTable =\n",
              "            await google.colab.kernel.invokeFunction('convertToInteractive',\n",
              "                                                     [key], {});\n",
              "          if (!dataTable) return;\n",
              "\n",
              "          const docLinkHtml = 'Like what you see? Visit the ' +\n",
              "            '<a target=\"_blank\" href=https://colab.research.google.com/notebooks/data_table.ipynb>data table notebook</a>'\n",
              "            + ' to learn more about interactive tables.';\n",
              "          element.innerHTML = '';\n",
              "          dataTable['output_type'] = 'display_data';\n",
              "          await google.colab.output.renderOutput(dataTable, element);\n",
              "          const docLink = document.createElement('div');\n",
              "          docLink.innerHTML = docLinkHtml;\n",
              "          element.appendChild(docLink);\n",
              "        }\n",
              "      </script>\n",
              "    </div>\n",
              "  </div>\n",
              "  "
            ],
            "text/plain": [
              "        data   hora     autor  ... cont_palavras cont_mensagem  cont_emoji\n",
              "0 2021-08-31  18:16  Fernanda  ...             2             1           0\n",
              "1 2021-08-31  18:16  Fernanda  ...             2             1           0\n",
              "2 2021-08-31  18:16  Fernanda  ...             2             1           0\n",
              "3 2021-08-31  18:37   Juliano  ...             1             1           0\n",
              "5 2021-08-31  18:48  Fernanda  ...             1             1           0\n",
              "\n",
              "[5 rows x 10 columns]"
            ]
          },
          "metadata": {},
          "execution_count": 12
        }
      ]
    },
    {
      "cell_type": "code",
      "source": [
        "\n",
        "# Cria uma lista com os autores únicos\n",
        "l = mensagens_df.autor.unique()\n",
        "\n",
        "for i in range(len(l)):\n",
        "  # Filtra mensagens de um autor específico\n",
        "  req_df = mensagens_df[mensagens_df[\"autor\"] == l[i]]\n",
        "  \n",
        "  print(f'Estatísticas de {l[i]}')\n",
        "  print('Mensagens enviadas:', req_df.shape[0])\n",
        "\n",
        "  # cont_palavras contém o total de palavras por mensagem. Soma de todas palavras\n",
        "  palavras_por_mensagem = (np.sum(req_df['cont_palavras']))/req_df.shape[0]\n",
        "  print('Palavras por mensagem:', palavras_por_mensagem)\n",
        "  \n",
        "  media = media_mensagens_df[media_mensagens_df['autor'] == l[i]].shape[0]\n",
        "  print('Mensagens de mídia enviadas:', media)\n",
        "\n",
        "  emojis = sum(req_df['emoji'].str.len())\n",
        "  print('Emojis enviados:', emojis)\n",
        "\n",
        "  links = sum(req_df[\"urlcount\"])   \n",
        "  print('Links enviados:', links)\n",
        "    \n",
        "  print()"
      ],
      "metadata": {
        "colab": {
          "base_uri": "https://localhost:8080/"
        },
        "id": "eBXpTR-G7Czv",
        "outputId": "9c11acab-8817-4244-e039-d886fba2044d"
      },
      "execution_count": null,
      "outputs": [
        {
          "output_type": "stream",
          "name": "stdout",
          "text": [
            "Estatísticas de Fernanda\n",
            "Mensagens enviadas: 3331\n",
            "Palavras por mensagem: 4.14440108075653\n",
            "Mensagens de mídia enviadas: 451\n",
            "Emojis enviados: 202\n",
            "Links enviados: 27\n",
            "\n",
            "Estatísticas de Juliano\n",
            "Mensagens enviadas: 1634\n",
            "Palavras por mensagem: 3.0893512851897187\n",
            "Mensagens de mídia enviadas: 411\n",
            "Emojis enviados: 95\n",
            "Links enviados: 15\n",
            "\n"
          ]
        }
      ]
    },
    {
      "cell_type": "code",
      "source": [
        "a=mensagens_df[[\"data\",\"autor\",\"cont_palavras\",\"cont_mensagem\"]].groupby([\"data\",\"autor\"]).sum()\n",
        "a.fillna(0)\n",
        "a=a.reset_index(level=1)\n",
        "k=a[\"autor\"].unique()\n",
        "\n",
        "\n",
        "for i in k:\n",
        " print(a[a[\"autor\"]==i].describe())"
      ],
      "metadata": {
        "colab": {
          "base_uri": "https://localhost:8080/"
        },
        "id": "OFq42BUOEC_8",
        "outputId": "a20b082d-af32-4a21-9ab2-f6e68b2ae902"
      },
      "execution_count": null,
      "outputs": [
        {
          "output_type": "stream",
          "name": "stdout",
          "text": [
            "       cont_palavras  cont_mensagem\n",
            "count     150.000000     150.000000\n",
            "mean       92.033333      22.206667\n",
            "std        65.939917      13.691861\n",
            "min         1.000000       1.000000\n",
            "25%        50.000000      13.000000\n",
            "50%        82.500000      21.000000\n",
            "75%       123.750000      29.000000\n",
            "max       508.000000      96.000000\n",
            "       cont_palavras  cont_mensagem\n",
            "count     139.000000     139.000000\n",
            "mean       36.316547      11.755396\n",
            "std        30.273879       8.223192\n",
            "min         1.000000       1.000000\n",
            "25%        17.000000       6.000000\n",
            "50%        28.000000      10.000000\n",
            "75%        44.500000      15.000000\n",
            "max       215.000000      48.000000\n"
          ]
        }
      ]
    },
    {
      "cell_type": "code",
      "source": [
        ""
      ],
      "metadata": {
        "colab": {
          "base_uri": "https://localhost:8080/",
          "height": 172
        },
        "id": "ZR7mFuhWHovG",
        "outputId": "fcfd3075-b29f-459a-deb2-62fa325a8c7f"
      },
      "execution_count": null,
      "outputs": [
        {
          "output_type": "error",
          "ename": "NameError",
          "evalue": "ignored",
          "traceback": [
            "\u001b[0;31m---------------------------------------------------------------------------\u001b[0m",
            "\u001b[0;31mNameError\u001b[0m                                 Traceback (most recent call last)",
            "\u001b[0;32m<ipython-input-15-b7597bb3bbd0>\u001b[0m in \u001b[0;36m<module>\u001b[0;34m()\u001b[0m\n\u001b[0;32m----> 1\u001b[0;31m \u001b[0masuave\u001b[0m\u001b[0;34m\u001b[0m\u001b[0;34m\u001b[0m\u001b[0m\n\u001b[0m",
            "\u001b[0;31mNameError\u001b[0m: name 'asuave' is not defined"
          ]
        }
      ]
    },
    {
      "cell_type": "code",
      "source": [
        "\n",
        "dicionario_f = {'Bom dia' : len(re.findall('bom di', textof, re.IGNORECASE))}\n",
        "dicionario_f['Boa noite'] = len(re.findall('boa n', textof, re.IGNORECASE))\n",
        "dicionario_f['cheguei'] = len(re.findall('che', textof, re.IGNORECASE))\n",
        "dicionario_f['Te amo'] = len(re.findall('amo', textof, re.IGNORECASE))\n",
        "\n",
        "dicionario_j = {'Bom dia' : len(re.findall('bom d', textoj, re.IGNORECASE))}\n",
        "dicionario_j['Boa noite'] = len(re.findall('boa n', textoj, re.IGNORECASE))\n",
        "dicionario_j['cheguei'] = len(re.findall('cheg', textoj, re.IGNORECASE))\n",
        "dicionario_j['Te amo'] = len(re.findall('amo', textoj, re.IGNORECASE))\n",
        "\n",
        "dicionario_f = sorted(dicionario_f.items(), key=lambda x: x[1], reverse=True)\n",
        "carinhosf = pd.DataFrame(dicionario_f, columns=['Carinhos', 'cont'])\n",
        "dicionario_j = sorted(dicionario_j.items(), key=lambda x: x[1], reverse=True)\n",
        "carinhosj = pd.DataFrame(dicionario_j, columns=['Carinhos', 'cont'])"
      ],
      "metadata": {
        "id": "ZKmimfj68_e9"
      },
      "execution_count": null,
      "outputs": []
    },
    {
      "cell_type": "code",
      "source": [
        "carinhosf.plot(x=\"Carinhos\",y=\"cont\",kind='bar')"
      ],
      "metadata": {
        "colab": {
          "base_uri": "https://localhost:8080/",
          "height": 335
        },
        "id": "qBGxEzN2Cu1n",
        "outputId": "f23ab6e3-6f65-4baa-d6d9-934e1e6d219b"
      },
      "execution_count": null,
      "outputs": [
        {
          "output_type": "execute_result",
          "data": {
            "text/plain": [
              "<matplotlib.axes._subplots.AxesSubplot at 0x7f4a43c87410>"
            ]
          },
          "metadata": {},
          "execution_count": 19
        },
        {
          "output_type": "display_data",
          "data": {
            "image/png": "[encoded data removed]",
            "text/plain": [
              "<Figure size 432x288 with 1 Axes>"
            ]
          },
          "metadata": {
            "needs_background": "light"
          }
        }
      ]
    },
    {
      "cell_type": "code",
      "source": [
        "carinhosj.plot(x=\"Carinhos\",y=\"cont\",kind='bar')"
      ],
      "metadata": {
        "colab": {
          "base_uri": "https://localhost:8080/",
          "height": 335
        },
        "id": "yMrv9gg87h1Z",
        "outputId": "fe7f8851-af2f-4bb1-d2fa-5ec1e662a587"
      },
      "execution_count": null,
      "outputs": [
        {
          "output_type": "execute_result",
          "data": {
            "text/plain": [
              "<matplotlib.axes._subplots.AxesSubplot at 0x7f4a43aeed90>"
            ]
          },
          "metadata": {},
          "execution_count": 20
        },
        {
          "output_type": "display_data",
          "data": {
            "image/png": "[encoded data removed]",
            "text/plain": [
              "<Figure size 432x288 with 1 Axes>"
            ]
          },
          "metadata": {
            "needs_background": "light"
          }
        }
      ]
    },
    {
      "cell_type": "code",
      "source": [
        ""
      ],
      "metadata": {
        "id": "BNLA6pKm4r74"
      },
      "execution_count": null,
      "outputs": []
    },
    {
      "cell_type": "code",
      "source": [
        "dfdia"
      ],
      "metadata": {
        "id": "H0HZqwVE4UaK"
      },
      "execution_count": null,
      "outputs": []
    }
  ]
}