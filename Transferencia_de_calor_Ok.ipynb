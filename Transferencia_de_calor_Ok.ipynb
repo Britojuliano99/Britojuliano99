{
  "nbformat": 4,
  "nbformat_minor": 0,
  "metadata": {
    "colab": {
      "name": "Transferencia_de_calor_Ok.ipynb",
      "provenance": [],
      "collapsed_sections": [],
      "authorship_tag": "ABX9TyPt0uhTpod3RELmeY2j8NP0",
      "include_colab_link": true
    },
    "kernelspec": {
      "name": "python3",
      "display_name": "Python 3"
    },
    "language_info": {
      "name": "python"
    }
  },
  "cells": [
    {
      "cell_type": "markdown",
      "metadata": {
        "id": "view-in-github",
        "colab_type": "text"
      },
      "source": [
        "<a href=\"https://colab.research.google.com/github/Britojuliano99/Britojuliano99/blob/main/Transferencia_de_calor_Ok.ipynb\" target=\"_parent\"><img src=\"https://colab.research.google.com/assets/colab-badge.svg\" alt=\"Open In Colab\"/></a>"
      ]
    },
    {
      "cell_type": "code",
      "execution_count": 1,
      "metadata": {
        "id": "Ga18tiTsY2tM"
      },
      "outputs": [],
      "source": [
        "import numpy as np\n",
        "import matplotlib.pyplot as plt\n",
        "from matplotlib import animation\n",
        "import pandas as pd"
      ]
    },
    {
      "cell_type": "markdown",
      "source": [
        "#Funções para calcular os coeficientes de transferencia de calor\n",
        "#Convecção interna\n",
        "#Convecção Natural"
      ],
      "metadata": {
        "id": "TYuHjViUZMIi"
      }
    },
    {
      "cell_type": "code",
      "source": [
        "def hconvectivo_aquecimento_turbulento(T,m,D,n):\n",
        "    cp=4180\n",
        "    k=0.64\n",
        "    pi=3.14\n",
        "    u_in=np.zeros((n),dtype=np.float128)\n",
        "    Re_in=np.zeros((n),dtype=np.float128)\n",
        "    Pr_in=np.zeros((n),dtype=np.float128)\n",
        "    Nu_in=np.zeros((n),dtype=np.float128)\n",
        "    h=np.zeros((n),dtype=np.float128)\n",
        "    \n",
        "    u_in[:]=(289+8*(T[:]-300))*10**-6\n",
        "    Re_in[:]=(4*m)/(u_in[:]*pi*D)\n",
        "    Pr_in[:]=5.83-0.05*(T[:]-300)\n",
        "    if Re_in.mean() >10000:\n",
        "      Nu_in[:]=0.023*(Re_in[:]**(0.8))*(Pr_in[:]**(0.4))\n",
        "    else:\n",
        "      Nu_in[:]=0.023*(Re_in[:]**(0.8))*(Pr_in[:]**(0.4))\n",
        "    h[:]=Nu_in[:]*k/D\n",
        "    return h\n",
        "  \n",
        "def hconvectivo_natural(T,D,Ts):\n",
        "    g=9.81\n",
        "    cp=4180\n",
        "    k=0.64\n",
        "    rho=1000\n",
        "    \n",
        "    Ra_out=np.float128\n",
        "    u=np.float128\n",
        "    v=np.float128\n",
        "    Pr_out=np.float128\n",
        "    alpha=np.float128\n",
        "    beta_out=np.float128\n",
        "    u=(289+8*(T-300))*10**(-6)\n",
        "    Pr_out=5.83-0.05*(T-300)\n",
        "    v=u/Pr_out\n",
        "    alpha= k/(rho*cp)\n",
        "    beta_out=(276.1+6.77*(T-300))*10**-6\n",
        "    Ra_out=(g*beta_out*(abs(T-Ts))*D**3)/(v*alpha)\n",
        "    Nu_out=(0.6+((0.387*(Ra_out)**(1/6))/(1+((0.559/Pr_out)**(9/16)))**(8/27)))**2\n",
        "    h=Nu_out*k/D\n",
        "   \n",
        "    return h\n"
      ],
      "metadata": {
        "id": "W62EjKsnZKV5"
      },
      "execution_count": 2,
      "outputs": []
    },
    {
      "cell_type": "markdown",
      "source": [
        "#Usando a media para calcular\n"
      ],
      "metadata": {
        "id": "KaE5Xq6-biwp"
      }
    },
    {
      "cell_type": "code",
      "source": [
        "def hconvectivo_aquecimento_turbulento2(Ti,ts,m,D,n):\n",
        "    cp=4180\n",
        "    k=0.64\n",
        "    pi=3.14\n",
        "    T=Ti.mean()\n",
        "    \n",
        "    Re_in=np.float128\n",
        "    \n",
        "    u_in=453*10**(-6)\n",
        "    Re_in=(4*m)/(u_in*pi*D)\n",
        "    Pr_in=5.83-(0.05*(T-300))\n",
        "    if Re_in >10000:\n",
        "      Nu_in=0.023*(Re_in**(0.8))*(Pr_in**(0.4))\n",
        "      h=Nu_in*k/D\n",
        "      \n",
        "    else:\n",
        "      print(Re_in)\n",
        "      Nu_in=3.66\n",
        "      h=Nu_in*k/D\n",
        "    \n",
        "    if h==np.NAN:\n",
        "      print(\"erro em interno\")\n",
        "    return h\n",
        "\n",
        "def hconvectivo_aquecimento_turbulento2(Ti,m,D,n):\n",
        "    cp=4180\n",
        "    k=0.64\n",
        "    pi=3.14\n",
        "    c=0.5\n",
        "    cd=c/D\n",
        "    dc=D/c\n",
        "    T=Ti.mean()\n",
        "    \n",
        "    Re_in=np.float128\n",
        "    \n",
        "    u_in=453*10**(-6)\n",
        "    Re_in=(4*m)/(u_in*pi*D)\n",
        "    Pr_in=5.83-(0.05*(T-300))\n",
        "    \n",
        "    if Re_in >10000:\n",
        "      Nu_in=0.023*(Re_in**(0.8))*(Pr_in**(0.4))\n",
        "      h=Nu_in*k/D\n",
        "      \n",
        "    else:\n",
        "      Nu_in=3.66\n",
        "      h=Nu_in*k/D\n",
        "    \n",
        "      \n",
        "    return h\n",
        "def hconvectivo_natural2(T,D,Ts):\n",
        "    g=9.81\n",
        "    cp=4180\n",
        "    k=0.64\n",
        "    rho=1000\n",
        "    Ra_out=np.float128\n",
        "    u=np.float128\n",
        "    v=np.float128\n",
        "    Pr_out=np.float128\n",
        "    alpha=np.float128\n",
        "    beta_out=np.float128\n",
        "    u=453*10**(-6)\n",
        "    Pr_out=5.83-(0.05*(T-300))\n",
        "    v=u/Pr_out\n",
        "    alpha= k/(rho*cp)\n",
        "    beta_out=(276.1+(6.77*(T-300)))*10**-6\n",
        "    Ra_out=(g*beta_out*(abs(T-Ts))*D**3)/(v*alpha)\n",
        "    a=(0.387*(Ra_out)**(1/6))\n",
        "    b=(1+((0.559/Pr_out)**(9/16)))**(8/27)\n",
        "    Nu_out=(0.6+a/b)**2\n",
        "    \n",
        "    h=Nu_out*k/D\n",
        "    return h"
      ],
      "metadata": {
        "id": "EhHYG83QbTMZ"
      },
      "execution_count": 3,
      "outputs": []
    },
    {
      "cell_type": "markdown",
      "source": [
        "#Função que calcula a tranferencia de calor e retorna 4 valores:\n",
        "A temperatura do fluido interno para cada instante de tempo;\n",
        "\n",
        "A temperatura do fluido externo para cada periodo de tempo;\n",
        "\n",
        "Temperatura que o fluido interno sai;\n",
        "\n",
        "Tempo total para o resfriamento completo.\n"
      ],
      "metadata": {
        "id": "UwqypGyzZdi9"
      }
    },
    {
      "cell_type": "code",
      "source": [
        "def aquecimentoaguadtdx(T0,Ti,m_dot,r,l,e):\n",
        "    t_final=100000\n",
        "    dt=0.1\n",
        "    n=l*10\n",
        "    dx=l/n\n",
        "    x=np.linspace(dx/2,l-dx/2,n)\n",
        "    T=np.ones(n)*Ti\n",
        "    T1s=np.ones((t_final,n))\n",
        "    \n",
        "    \n",
        "    T0s=np.ones(t_final)*Ti\n",
        "    Tsaida=np.ones(t_final)\n",
        "    dTdt = np.zeros(n)\n",
        "    m_agua=50\n",
        "    cp=4180\n",
        "    k_tubo=237\n",
        "    rho=1000\n",
        "    Ts=np.ones(n)*(T+T0)/2\n",
        "    Tempo=0\n",
        "    Tempo40=0\n",
        "    q_a=np.zeros(n)\n",
        "    q_p=np.zeros(n)\n",
        "    y=np.float128\n",
        "    ys=np.ones(t_final)\n",
        "    jbreak=int\n",
        "    v=np.pi*dx*r**2\n",
        "    for j in range(0,t_final):\n",
        "        Ts[:]=(T[:]+T0)/2\n",
        "        a=hconvectivo_natural(T0,(r+e)*2,Ts)\n",
        "        b=hconvectivo_aquecimento_turbulento(T,m_dot,r*2,n)\n",
        "        y=1/(1/b +1/a +((r/k_tubo)*np.log((r+e)/r)))\n",
        "        ys[j]=y.mean()\n",
        "        q_a[0]=m_dot*cp*(Ti-T[0])\n",
        "        q_p[0]=y[0]*2*np.pi*dx*r*(Ti-T[0])\n",
        "        q_a[1:n]=m_dot*cp*(T[0:n-1]-T[1:n])\n",
        "        q_p[1:n]=y[1:n]*2*np.pi*dx*r*(T[0:n-1]-T[1:n])  \n",
        "        dTdt=(q_a+q_p)/(rho*cp*v)\n",
        "      \n",
        "        a=(Ti-T[n-1])*cp*m_dot*dt\n",
        "        \n",
        "        dT0=a/(cp*m_agua)\n",
        "        T=T+dTdt*dt\n",
        "        T0=T0+dT0\n",
        "        Tsaida[j]=T[n-1]-273.15\n",
        "        T1s[j,:]=T[:]-273.15\n",
        "        \n",
        "        T0s[j]=T0-273.15\n",
        "\n",
        "        \n",
        "        if T0.round()==(310):\n",
        "         Tempo40=round(j*dt/60)\n",
        "        if T0.round()==Ti:\n",
        "          Tempo=round(j*dt/60)\n",
        "          print(j)\n",
        "          jbreak=j\n",
        "          break\n",
        "    print(ys.mean())\n",
        "    print(Tempo40)\n",
        "    print(Tempo)\n",
        "    return T1s,T0s,Tsaida,Tempo,Tempo40"
      ],
      "metadata": {
        "id": "lAw6NUNsaDXN"
      },
      "execution_count": 4,
      "outputs": []
    },
    {
      "cell_type": "code",
      "source": [
        "def aquecimentoaguadtdx2(T0,Ti,m_dot,m,r,l,e):\n",
        "    t_final=100000\n",
        "    dt=0.1\n",
        "    n=l*10\n",
        "    dx=l/n\n",
        "    x=np.linspace(dx/2,l-dx/2,n)\n",
        "    Tempos=np.linspace(0,t_final*dt/60,t_final)\n",
        "    T=np.ones(n)*Ti\n",
        "    T1s=np.ones((t_final,n))\n",
        "    \n",
        "    \n",
        "    T0s=np.ones(t_final)*(Ti-273.15)\n",
        "    Tsaida=np.ones(t_final)\n",
        "    dTdt = np.zeros(n)\n",
        "    m_agua=m\n",
        "    cp=4180\n",
        "    k_tubo=237\n",
        "    rho=1000\n",
        "    Ts=np.ones(n)*(T+T0)/2\n",
        "    Tempo=0\n",
        "    Tempo40=0\n",
        "    y=np.float128\n",
        "    ys=np.ones(t_final)\n",
        "    jbreak=10000\n",
        "    dv=np.pi*dx*r**2\n",
        "    \n",
        "    \n",
        "    \n",
        "    for j in range(0,t_final):\n",
        "        Ts=(T.mean()+T0)/2\n",
        "       \n",
        "        b=hconvectivo_aquecimento_turbulento2(T,m_dot,r*2,n)\n",
        "        a=hconvectivo_natural2(T0,(r+e)*2,Ts)\n",
        "        y=1/(1/b +1/a +((r/k_tubo)*np.log((r+e)/r)))\n",
        "        ys[j]=y\n",
        "        dTdt[0]=((m_dot*cp*(Ti-T[0]))+(y*2*np.pi*dx*r*(T0-T[0])))/(rho*cp*dv)\n",
        "        dTdt[1:n]=((m_dot*cp*(T[0:n-1]-T[1:n]))+(y*2*np.pi*r*dx*(T0-T[1:n])))/(rho*cp*np.pi*dv)\n",
        "        \n",
        "        a=(Ti-T[n-1])*cp*m_dot*dt\n",
        "      \n",
        "        dT0=a/(cp*m_agua)\n",
        "        T=T+dTdt*dt\n",
        "        T0=T0+dT0\n",
        "        Tsaida[j]=T[n-1]-273.15\n",
        "        T1s[j,:]=T[:]-273.15\n",
        "        T0s[j]=T0-273.15\n",
        "        \n",
        "        if T0.round()==(310):\n",
        "         Tempo40=round(j*dt/60)\n",
        "        if T0.round()==Ti:\n",
        "          Tempo=round(j*dt/60)\n",
        "          jbreak=j\n",
        "          break\n",
        "    #print(ys.mean())\n",
        "    #print(Tempo40)\n",
        "    #print(Tempo)\n",
        "    #print(\"Gasto de água:\",Tempo40*m_dot,\"l\")\n",
        "    #fig, ax = plt.subplots(figsize=(10,4))\n",
        "    #ax.set_xlabel=(\"Tempo em minutos\")\n",
        "    #ax.set_ylabel=(\"Temperatura do mosto em °C\")\n",
        "    #ax.plot(Tempos[:jbreak],T0s[:jbreak],label=(\"Comprimento do Chiller:\", l,\"Fluxo de água:\",m_dot))\n",
        "   \n",
        "    #ax.legend()\n",
        "   \n",
        "    return T1s,T0s,Tsaida,Tempo,Tempo40"
      ],
      "metadata": {
        "id": "Y2gwVwzpbEvg"
      },
      "execution_count": 11,
      "outputs": []
    },
    {
      "cell_type": "code",
      "source": [
        "def plot(Tempos,T0s,jbreak,l,m_dot):\n",
        "  fig, ax = plt.subplots(figsize=(10,4))\n",
        "  ax.set_xlabel=(\"Tempo em minutos\")\n",
        "  ax.set_ylabel=(\"Temperatura do mosto em °C\")\n",
        "  ax.plot(Tempos[:jbreak],T0s[:jbreak],\"Comprimento do Chiller(m):\", l,\"Fluxo de água(kg/s):\",m_dot)\n",
        "   \n",
        "  ax.legend()"
      ],
      "metadata": {
        "id": "RSHWyEjScT1A"
      },
      "execution_count": 12,
      "outputs": []
    },
    {
      "cell_type": "code",
      "source": [
        "a1=aquecimentoaguadtdx2(370,300,0.1,25,.025,10,0.005)\n",
        "a2=aquecimentoaguadtdx2(370,300,0.1,25,.025,15,0.005)\n",
        "a3=aquecimentoaguadtdx2(370,300,0.1,25,.025,20,0.005)\n",
        "a4=aquecimentoaguadtdx2(370,300,0.1,25,.025,25,0.005)\n",
        "a5=aquecimentoaguadtdx2(370,300,0.1,25,.025,30,0.005)\n",
        "a6=aquecimentoaguadtdx2(370,300,0.2,25,.025,30,0.005)\n",
        "a7=aquecimentoaguadtdx2(370,300,0.3,25,.025,30,0.005)\n"
      ],
      "metadata": {
        "id": "fpuNbIEDaExO"
      },
      "execution_count": 21,
      "outputs": []
    },
    {
      "cell_type": "code",
      "source": [
        "t_final=100000\n",
        "dt=0.1\n",
        "Tempos=np.linspace(0,t_final*dt/60,t_final)\n",
        "T0sa1=a1[1]\n",
        "T0sa2=a2[1]\n",
        "T0sa3=a3[1]\n",
        "T0sa4=a4[1]\n",
        "T0sa5=a5[1]\n",
        "T0sa6=a6[1]\n",
        "T0sa7=a7[1]"
      ],
      "metadata": {
        "id": "-2l_Woirg4Xy"
      },
      "execution_count": 24,
      "outputs": []
    },
    {
      "cell_type": "code",
      "source": [
        "\n",
        "\n",
        "fig, ax = plt.subplots(figsize=(10,4))\n",
        "ax.set_xlabel(\"Minutos\")\n",
        "ax.set_ylabel(\"Temperatura em °C\")\n",
        "ax.set_title(\"Temperatura do mosto com diferentes comprimentos do Chiller\")\n",
        "ax.set_ylim((30,100))\n",
        "ax.set_xlim((0,100))\n",
        "\n",
        "plt.plot(Tempos,T0sa1[:100000],label=\"10m\")\n",
        "plt.plot(Tempos,T0sa2[:100000],label=\"15m\")\n",
        "plt.plot(Tempos,T0sa3[:100000],label=\"20m\")\n",
        "plt.plot(Tempos,T0sa4[:100000],label=\"25m\")\n",
        "plt.plot(Tempos,T0sa5[:100000],label=\"30m\")\n",
        "\n",
        "\n",
        "\n",
        "\n",
        "ax.legend()"
      ],
      "metadata": {
        "colab": {
          "base_uri": "https://localhost:8080/",
          "height": 313
        },
        "id": "MM--9JOMXUfs",
        "outputId": "4f8f7c94-638b-4d85-90fc-705172c3fbaf"
      },
      "execution_count": 25,
      "outputs": [
        {
          "output_type": "execute_result",
          "data": {
            "text/plain": [
              "<matplotlib.legend.Legend at 0x7f0bd1b5aa90>"
            ]
          },
          "metadata": {},
          "execution_count": 25
        },
        {
          "output_type": "display_data",
          "data": {
            "image/png": "[encoded data removed]",
            "text/plain": [
              "<Figure size 720x288 with 1 Axes>"
            ]
          },
          "metadata": {
            "needs_background": "light"
          }
        }
      ]
    },
    {
      "cell_type": "code",
      "source": [
        "fig, ax = plt.subplots(figsize=(10,4))\n",
        "ax.set_xlabel(\"Minutos\")\n",
        "ax.set_ylabel(\"Temperatura em °C\")\n",
        "ax.set_title(\"Temperatura do mosto para diferentes fluxos\")\n",
        "ax.set_ylim((30,100))\n",
        "ax.set_xlim((0,60))\n",
        "\n",
        "plt.plot(Tempos,T0sa3[:100000],label=\"0,1 kg/s\")\n",
        "plt.plot(Tempos,T0sa6[:100000],label=\"0,2 kg/s\")\n",
        "plt.plot(Tempos,T0sa7[:100000],label=\"0,3 kg/s\")\n",
        "\n",
        "\n",
        "ax.legend()"
      ],
      "metadata": {
        "id": "pyt1JzKtgjsv",
        "outputId": "f2d77417-dead-4546-8c60-a4dc1ccd1e0b",
        "colab": {
          "base_uri": "https://localhost:8080/",
          "height": 313
        }
      },
      "execution_count": 28,
      "outputs": [
        {
          "output_type": "execute_result",
          "data": {
            "text/plain": [
              "<matplotlib.legend.Legend at 0x7f0bd205d210>"
            ]
          },
          "metadata": {},
          "execution_count": 28
        },
        {
          "output_type": "display_data",
          "data": {
            "image/png": "[encoded data removed]",
            "text/plain": [
              "<Figure size 720x288 with 1 Axes>"
            ]
          },
          "metadata": {
            "needs_background": "light"
          }
        }
      ]
    },
    {
      "cell_type": "code",
      "source": [
        "fig, ax = plt.subplots(figsize=(10,4))\n",
        "ax.set_xlabel(\"Minutos\")\n",
        "ax.set_ylabel(\"Temperatura em °C\")\n",
        "ax.set_title(\"Temperatura do mosto para diferentes combinações\")\n",
        "ax.set_ylim((30,100))\n",
        "ax.set_xlim((0,100))\n",
        "\n",
        "plt.plot(Tempos,T0sa1[:100000],label=\" 10 m e 0,1 kg/s\")\n",
        "plt.plot(Tempos,T0sa5[:100000],label=\"30 m e 0,1 kg/s\")\n",
        "plt.plot(Tempos,T0sa7[:100000],label=\"20 m e 0,3 kg/s\")\n",
        "\n",
        "\n",
        "ax.legend()"
      ],
      "metadata": {
        "id": "AeFJebR_jaHg",
        "outputId": "306bd297-9a4a-42f2-d198-0060e5fde285",
        "colab": {
          "base_uri": "https://localhost:8080/",
          "height": 313
        }
      },
      "execution_count": 37,
      "outputs": [
        {
          "output_type": "execute_result",
          "data": {
            "text/plain": [
              "<matplotlib.legend.Legend at 0x7f0bd1553b50>"
            ]
          },
          "metadata": {},
          "execution_count": 37
        },
        {
          "output_type": "display_data",
          "data": {
            "image/png": "[encoded data removed]",
            "text/plain": [
              "<Figure size 720x288 with 1 Axes>"
            ]
          },
          "metadata": {
            "needs_background": "light"
          }
        }
      ]
    },
    {
      "cell_type": "code",
      "source": [
        "Tudo=[a1,a2,a3,a4,a5,a6,a7]\n",
        "df=pd.DataFrame(Tudo,index=[\"1\",\"2\",\"3\",\"4\",\"5\",\"6\",\"7\"],columns=[\"T1s\",\"T0s\",\"Tsaida\",\"Tempo\",\"Tempo40\"])"
      ],
      "metadata": {
        "id": "P36GenFJcZbE"
      },
      "execution_count": 31,
      "outputs": []
    },
    {
      "cell_type": "code",
      "source": [
        "df.sort_values(by=\"Tempo\",ascending=False,inplace=True)\n",
        "fig, ax = plt.subplots(figsize=(10,4))\n",
        "ax.set_title(\"Tempo para o resfriamento até 40°C em minutos\")\n",
        "ax.set_ylabel(\"Minutos\")\n",
        "df[\"Tempo40\"].plot.bar()"
      ],
      "metadata": {
        "id": "8bWQNOVUaR8m",
        "colab": {
          "base_uri": "https://localhost:8080/",
          "height": 296
        },
        "outputId": "a4583922-956e-4561-f051-5040e6e54983"
      },
      "execution_count": 35,
      "outputs": [
        {
          "output_type": "execute_result",
          "data": {
            "text/plain": [
              "<matplotlib.axes._subplots.AxesSubplot at 0x7f0bd164dc50>"
            ]
          },
          "metadata": {},
          "execution_count": 35
        },
        {
          "output_type": "display_data",
          "data": {
            "image/png": "[encoded data removed]",
            "text/plain": [
              "<Figure size 720x288 with 1 Axes>"
            ]
          },
          "metadata": {
            "needs_background": "light"
          }
        }
      ]
    },
    {
      "cell_type": "markdown",
      "source": [
        "#Plotagem dos graficos"
      ],
      "metadata": {
        "id": "uFGA2O-1aXdu"
      }
    },
    {
      "cell_type": "code",
      "source": [
        "\n"
      ],
      "metadata": {
        "id": "Usa7okpgaddX"
      },
      "execution_count": 9,
      "outputs": []
    },
    {
      "cell_type": "code",
      "source": [
        "fig, ax = plt.subplots(figsize=(10,4))\n",
        "ax.set_xlabel(\"Interações\")\n",
        "ax.set_ylabel(\"Temperatura em °C\")\n",
        "ax.set_title(\"Temperatura do mosto com diferentes fluxos\")\n",
        "ax.set_ylim((30,100))\n",
        "plt.plot(T0sa2[:10000],label=\"a2\")\n",
        "plt.plot(T0sb2[:10000],label=\"b2\")\n",
        "plt.plot(T0sc2[:10000],label=\"c2\")\n",
        "plt.plot(T0sd2[:10000],label=\"d2\")\n",
        "ax.legend()"
      ],
      "metadata": {
        "id": "jtwRFM2xamPB",
        "outputId": "1645d9eb-0693-4052-ab24-eea27515891b",
        "colab": {
          "base_uri": "https://localhost:8080/",
          "height": 523
        }
      },
      "execution_count": 10,
      "outputs": [
        {
          "output_type": "error",
          "ename": "NameError",
          "evalue": "ignored",
          "traceback": [
            "\u001b[0;31m---------------------------------------------------------------------------\u001b[0m",
            "\u001b[0;31mNameError\u001b[0m                                 Traceback (most recent call last)",
            "\u001b[0;32m<ipython-input-10-fd3d069262ba>\u001b[0m in \u001b[0;36m<module>\u001b[0;34m()\u001b[0m\n\u001b[1;32m      5\u001b[0m \u001b[0max\u001b[0m\u001b[0;34m.\u001b[0m\u001b[0mset_ylim\u001b[0m\u001b[0;34m(\u001b[0m\u001b[0;34m(\u001b[0m\u001b[0;36m30\u001b[0m\u001b[0;34m,\u001b[0m\u001b[0;36m100\u001b[0m\u001b[0;34m)\u001b[0m\u001b[0;34m)\u001b[0m\u001b[0;34m\u001b[0m\u001b[0;34m\u001b[0m\u001b[0m\n\u001b[1;32m      6\u001b[0m \u001b[0mplt\u001b[0m\u001b[0;34m.\u001b[0m\u001b[0mplot\u001b[0m\u001b[0;34m(\u001b[0m\u001b[0mT0sa2\u001b[0m\u001b[0;34m[\u001b[0m\u001b[0;34m:\u001b[0m\u001b[0;36m10000\u001b[0m\u001b[0;34m]\u001b[0m\u001b[0;34m,\u001b[0m\u001b[0mlabel\u001b[0m\u001b[0;34m=\u001b[0m\u001b[0;34m\"a2\"\u001b[0m\u001b[0;34m)\u001b[0m\u001b[0;34m\u001b[0m\u001b[0;34m\u001b[0m\u001b[0m\n\u001b[0;32m----> 7\u001b[0;31m \u001b[0mplt\u001b[0m\u001b[0;34m.\u001b[0m\u001b[0mplot\u001b[0m\u001b[0;34m(\u001b[0m\u001b[0mT0sb2\u001b[0m\u001b[0;34m[\u001b[0m\u001b[0;34m:\u001b[0m\u001b[0;36m10000\u001b[0m\u001b[0;34m]\u001b[0m\u001b[0;34m,\u001b[0m\u001b[0mlabel\u001b[0m\u001b[0;34m=\u001b[0m\u001b[0;34m\"b2\"\u001b[0m\u001b[0;34m)\u001b[0m\u001b[0;34m\u001b[0m\u001b[0;34m\u001b[0m\u001b[0m\n\u001b[0m\u001b[1;32m      8\u001b[0m \u001b[0mplt\u001b[0m\u001b[0;34m.\u001b[0m\u001b[0mplot\u001b[0m\u001b[0;34m(\u001b[0m\u001b[0mT0sc2\u001b[0m\u001b[0;34m[\u001b[0m\u001b[0;34m:\u001b[0m\u001b[0;36m10000\u001b[0m\u001b[0;34m]\u001b[0m\u001b[0;34m,\u001b[0m\u001b[0mlabel\u001b[0m\u001b[0;34m=\u001b[0m\u001b[0;34m\"c2\"\u001b[0m\u001b[0;34m)\u001b[0m\u001b[0;34m\u001b[0m\u001b[0;34m\u001b[0m\u001b[0m\n\u001b[1;32m      9\u001b[0m \u001b[0mplt\u001b[0m\u001b[0;34m.\u001b[0m\u001b[0mplot\u001b[0m\u001b[0;34m(\u001b[0m\u001b[0mT0sd2\u001b[0m\u001b[0;34m[\u001b[0m\u001b[0;34m:\u001b[0m\u001b[0;36m10000\u001b[0m\u001b[0;34m]\u001b[0m\u001b[0;34m,\u001b[0m\u001b[0mlabel\u001b[0m\u001b[0;34m=\u001b[0m\u001b[0;34m\"d2\"\u001b[0m\u001b[0;34m)\u001b[0m\u001b[0;34m\u001b[0m\u001b[0;34m\u001b[0m\u001b[0m\n",
            "\u001b[0;31mNameError\u001b[0m: name 'T0sb2' is not defined"
          ]
        },
        {
          "output_type": "display_data",
          "data": {
            "image/png": "[encoded data removed]",
            "text/plain": [
              "<Figure size 720x288 with 1 Axes>"
            ]
          },
          "metadata": {
            "needs_background": "light"
          }
        }
      ]
    },
    {
      "cell_type": "code",
      "source": [
        "fig, ax = plt.subplots(figsize=(10,4))\n",
        "ax.set_title(\"Temperatura do mosto para diferentes combinações\")\n",
        "ax.set_ylabel(\"Temperatura em °C\")\n",
        "ax.set_ylim((30,100))\n",
        "plt.plot(T0sa1[:10000],label=\"a1\")\n",
        "plt.plot(T0si1[:10000],label=\"i1\")\n",
        "plt.plot(T0sd2[:10000],label=\"d2\")\n",
        "ax.legend()"
      ],
      "metadata": {
        "id": "Ma2zAnOzanH2"
      },
      "execution_count": null,
      "outputs": []
    },
    {
      "cell_type": "code",
      "source": [
        "\n",
        "\n"
      ],
      "metadata": {
        "id": "gV_Hubp9aqIQ"
      },
      "execution_count": null,
      "outputs": []
    },
    {
      "cell_type": "code",
      "source": [
        ""
      ],
      "metadata": {
        "id": "EhGhbLwzawId"
      },
      "execution_count": null,
      "outputs": []
    },
    {
      "cell_type": "code",
      "source": [
        ""
      ],
      "metadata": {
        "id": "QZQaDsNqa0I0"
      },
      "execution_count": null,
      "outputs": []
    },
    {
      "cell_type": "code",
      "source": [
        "a=df.explode(\"T1s\")\n",
        "a.explode(\"T0s\")\n"
      ],
      "metadata": {
        "id": "QaqFIBnWa9hl"
      },
      "execution_count": null,
      "outputs": []
    },
    {
      "cell_type": "code",
      "source": [
        ""
      ],
      "metadata": {
        "id": "TSnMphYt6iQn"
      },
      "execution_count": null,
      "outputs": []
    }
  ]
}